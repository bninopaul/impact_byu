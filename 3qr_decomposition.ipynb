{
 "cells": [
  {
   "cell_type": "code",
   "execution_count": 1,
   "metadata": {
    "collapsed": true
   },
   "outputs": [],
   "source": [
    "import numpy as np\n",
    "import scipy as sp\n",
    "import scipy.linalg as la \n",
    "import scipy.sparse.linalg as spla\n",
    "import time \n",
    "import matplotlib.pyplot as plt\n",
    "\n",
    "%matplotlib inline"
   ]
  },
  {
   "cell_type": "markdown",
   "metadata": {},
   "source": [
    "### Problem 1\n",
    "\n",
    "Write a function that accepts an $m x n$ matrix $A$ of rank $n$. Use Algorithm 3.1 to compute the reduced QR decomposition of A.\n",
    "Consider the following tips for implementing the algorithm.\n",
    "\n",
    "1. In Python,the operation $a = a + b$ can also be written as $a += b$.\n",
    "2. Use `scipy.linalg.norm()` to compute the norm of the vector in step 6.\n",
    "3. Note that steps 7 and 10 employ scalar multiplication or division, while step 9 uses vector multiplication.\n",
    "\n",
    "To test your function, generate test cases with NumPy’s np.random module. Verify that R is upper triangular, Q is orthonormal, and QR = A. You may also want to compare your results to SciPy’s QR factorization algorithm."
   ]
  },
  {
   "cell_type": "code",
   "execution_count": 2,
   "metadata": {
    "collapsed": true
   },
   "outputs": [],
   "source": [
    "def modified_qr(A):\n",
    "    m,n = A.shape\n",
    "    Q = A.copy()\n",
    "    R = np.zeros((n,n))\n",
    "    for i in range(n):\n",
    "        R[i,i] = np.linalg.norm(Q[:,i])\n",
    "        Q[:,i] = Q[:,i]/R[i,i]\n",
    "        for j in range(i+1, n):\n",
    "            R[i,j] = np.dot(Q[:,j,None].T,Q[:,i])\n",
    "            Q[:,j] = Q[:,j] - R[i,j]*Q[:,i]\n",
    "    return Q,R"
   ]
  },
  {
   "cell_type": "code",
   "execution_count": 3,
   "metadata": {
    "collapsed": false
   },
   "outputs": [],
   "source": [
    "A = np.random.random((6,4))\n",
    "Q,R = la.qr(A, mode=\"economic\")"
   ]
  },
  {
   "cell_type": "code",
   "execution_count": 4,
   "metadata": {
    "collapsed": false
   },
   "outputs": [
    {
     "data": {
      "text/plain": [
       "(array([[-0.71204195, -0.09324511,  0.66427465, -0.11674562],\n",
       "        [-0.05869282, -0.66477546, -0.05476697, -0.311056  ],\n",
       "        [-0.05960038, -0.53053881, -0.12809194,  0.66146441],\n",
       "        [-0.5595976 ,  0.43117314, -0.47164466,  0.10246298],\n",
       "        [-0.239043  , -0.25730815, -0.51900946, -0.53722229],\n",
       "        [-0.34015904, -0.12565726, -0.21797411,  0.39111763]]),\n",
       " array([[-1.39913156, -0.89308677, -0.48216469, -1.08624546],\n",
       "        [ 0.        , -1.05030867, -1.33503885, -0.21569737],\n",
       "        [ 0.        ,  0.        , -0.67382144, -0.28870532],\n",
       "        [ 0.        ,  0.        ,  0.        ,  0.24632446]]))"
      ]
     },
     "execution_count": 4,
     "metadata": {},
     "output_type": "execute_result"
    }
   ],
   "source": [
    "Q,R"
   ]
  },
  {
   "cell_type": "code",
   "execution_count": 5,
   "metadata": {
    "collapsed": false
   },
   "outputs": [
    {
     "name": "stdout",
     "output_type": "stream",
     "text": [
      "True\n",
      "True\n",
      "True\n"
     ]
    }
   ],
   "source": [
    "#verify the R is upper triangular, Q is orthonormal, and QR=A\n",
    "print(np.allclose(np.triu(R), R))\n",
    "print(np.allclose(np.dot(Q.T, Q), np.eye(4)))\n",
    "print(np.allclose(np.dot(Q,R), A))"
   ]
  },
  {
   "cell_type": "code",
   "execution_count": 6,
   "metadata": {
    "collapsed": true
   },
   "outputs": [],
   "source": [
    "Q_,R_ = modified_qr(A)"
   ]
  },
  {
   "cell_type": "code",
   "execution_count": 7,
   "metadata": {
    "collapsed": false
   },
   "outputs": [
    {
     "data": {
      "text/plain": [
       "(array([[ 0.71204195,  0.09324511, -0.66427465, -0.11674562],\n",
       "        [ 0.05869282,  0.66477546,  0.05476697, -0.311056  ],\n",
       "        [ 0.05960038,  0.53053881,  0.12809194,  0.66146441],\n",
       "        [ 0.5595976 , -0.43117314,  0.47164466,  0.10246298],\n",
       "        [ 0.239043  ,  0.25730815,  0.51900946, -0.53722229],\n",
       "        [ 0.34015904,  0.12565726,  0.21797411,  0.39111763]]),\n",
       " array([[ 1.39913156,  0.89308677,  0.48216469,  1.08624546],\n",
       "        [ 0.        ,  1.05030867,  1.33503885,  0.21569737],\n",
       "        [ 0.        ,  0.        ,  0.67382144,  0.28870532],\n",
       "        [ 0.        ,  0.        ,  0.        ,  0.24632446]]))"
      ]
     },
     "execution_count": 7,
     "metadata": {},
     "output_type": "execute_result"
    }
   ],
   "source": [
    "Q_,R_"
   ]
  },
  {
   "cell_type": "code",
   "execution_count": 8,
   "metadata": {
    "collapsed": false
   },
   "outputs": [
    {
     "name": "stdout",
     "output_type": "stream",
     "text": [
      "True\n",
      "True\n",
      "True\n"
     ]
    }
   ],
   "source": [
    "#verify the R is upper triangular, Q is orthonormal, and QR=A\n",
    "print(np.allclose(np.triu(R_), R_))\n",
    "print(np.allclose(np.dot(Q_.T, Q_), np.eye(4)))\n",
    "print(np.allclose(np.dot(Q_,R_), A))"
   ]
  },
  {
   "cell_type": "markdown",
   "metadata": {},
   "source": [
    "### Problem 2\n",
    "Write a function that accepts an invertible $nxn$ matrix A. Use the QR decomposition of $A$ to calculate $|det(A)|$.\n",
    "You may use your QR decomposition algorithm from Problem 1 or SciPy’s QR routine. Can you implement this function in a single line?"
   ]
  },
  {
   "cell_type": "code",
   "execution_count": 9,
   "metadata": {
    "collapsed": true
   },
   "outputs": [],
   "source": [
    "def det(A):\n",
    "    return abs(np.diag(la.qr(A)[1]).prod())"
   ]
  },
  {
   "cell_type": "code",
   "execution_count": 10,
   "metadata": {
    "collapsed": true
   },
   "outputs": [],
   "source": [
    "A = np.random.random((4,4))"
   ]
  },
  {
   "cell_type": "code",
   "execution_count": 11,
   "metadata": {
    "collapsed": false
   },
   "outputs": [
    {
     "data": {
      "text/plain": [
       "0.020668639745650568"
      ]
     },
     "execution_count": 11,
     "metadata": {},
     "output_type": "execute_result"
    }
   ],
   "source": [
    "det(A)"
   ]
  },
  {
   "cell_type": "code",
   "execution_count": 12,
   "metadata": {
    "collapsed": false
   },
   "outputs": [
    {
     "data": {
      "text/plain": [
       "0.02066863974565058"
      ]
     },
     "execution_count": 12,
     "metadata": {},
     "output_type": "execute_result"
    }
   ],
   "source": [
    "abs(la.det(A))"
   ]
  },
  {
   "cell_type": "markdown",
   "metadata": {},
   "source": [
    "### Problem 3\n",
    "Write a function that accepts an invertible $nxn$ matrix $A$ and a vector $b$ of length $n$. Use the QR decomposition to solve $Ax = b$ in the following steps:\n",
    "\n",
    "1. Compute $Q$ and $R$.\n",
    "2. Calculate $y = Q^Tb$.\n",
    "3. Use back substitution to solve $Rx = y$ for $x$."
   ]
  },
  {
   "cell_type": "code",
   "execution_count": 13,
   "metadata": {
    "collapsed": true
   },
   "outputs": [],
   "source": [
    "def qr_solve(A,b):\n",
    "    #compute for Q and R\n",
    "    Q,R = la.qr(A)\n",
    "    #calculate y=Q.Tb\n",
    "    y = np.dot(Q.T, b)\n",
    "    #back substitution\n",
    "    x = np.zeros(shape=(len(b),1))\n",
    "    for i in range(len(x)-1,-1,-1):\n",
    "        x[i] = (1./R[i,i])*(y[i] - np.sum([R[i,j]*x[j] for j in range(i+1, len(x))]))\n",
    "    return x"
   ]
  },
  {
   "cell_type": "code",
   "execution_count": 14,
   "metadata": {
    "collapsed": false
   },
   "outputs": [],
   "source": [
    "A,b = np.random.random((3,3)), np.random.random((3,1))"
   ]
  },
  {
   "cell_type": "code",
   "execution_count": 15,
   "metadata": {
    "collapsed": false
   },
   "outputs": [
    {
     "data": {
      "text/plain": [
       "array([[-0.52153961],\n",
       "       [ 1.40636608],\n",
       "       [ 0.18477982]])"
      ]
     },
     "execution_count": 15,
     "metadata": {},
     "output_type": "execute_result"
    }
   ],
   "source": [
    "qr_solve(A,b)"
   ]
  },
  {
   "cell_type": "code",
   "execution_count": 16,
   "metadata": {
    "collapsed": false
   },
   "outputs": [
    {
     "data": {
      "text/plain": [
       "array([[-0.52153961],\n",
       "       [ 1.40636608],\n",
       "       [ 0.18477982]])"
      ]
     },
     "execution_count": 16,
     "metadata": {},
     "output_type": "execute_result"
    }
   ],
   "source": [
    "la.solve(A,b)"
   ]
  },
  {
   "cell_type": "markdown",
   "metadata": {},
   "source": [
    "### Problem 4\n",
    "\n",
    "Write a function that accepts as input a $mxn$ matrix $A$ of rank $n$. Use Algorithm 3.2 to compute the full QR decomposition of A.\n",
    "Consider the following implementation details.\n",
    "\n",
    "1.  NumPy’s `np.sign()` is an easy way to implement the `sign()` operation in step 7. However, `np.sign(0)` returns 0, which will cause a problem in the rare case that $u_0$ = 0 (which is possible if the top left entry of A is 0 to begin with). The following code defines a function that returns the sign of a single number, counting 0 as positive.\n",
    "      \n",
    "      `sign = lambda x: 1 if x >= 0 else -1`\n",
    "       \n",
    "2. In steps 9 and 10, the multiplication of $u$ and ($u_TX$) is an outer product ($xy_T$ instead of the usual $x_Ty$). Use `np.outer()` instead of `np.dot()` to handle this correctly."
   ]
  },
  {
   "cell_type": "code",
   "execution_count": 17,
   "metadata": {
    "collapsed": false
   },
   "outputs": [],
   "source": [
    "def qr_householder(A):\n",
    "    m,n = A.shape\n",
    "    R = A.copy()\n",
    "    Q = np.eye(m)\n",
    "    sign = lambda x: 1 if x==0 else np.sign(x)\n",
    "    for k in range(n):\n",
    "        u = R[k:,k].copy()\n",
    "        u[0] = u[0]+ sign(u[0])*np.linalg.norm(u)\n",
    "        u = u/np.linalg.norm(u)\n",
    "        R[k:,k:] -= 2*np.outer(u,(np.dot(u.T, R[k:,k:])))\n",
    "        Q[k:,:] -= 2*np.outer(u,(np.dot(u.T, Q[k:,:])))\n",
    "    return Q.T,R"
   ]
  },
  {
   "cell_type": "code",
   "execution_count": 18,
   "metadata": {
    "collapsed": false
   },
   "outputs": [
    {
     "data": {
      "text/plain": [
       "(array([[-0.66297693,  0.46830431,  0.48639777, -0.28345764,  0.15563303],\n",
       "        [-0.00605602, -0.37892543,  0.68939075,  0.61268363,  0.07574962],\n",
       "        [-0.31774128, -0.6844525 ,  0.09144749, -0.47446179, -0.44394663],\n",
       "        [-0.6459451 , -0.0098265 , -0.47990861,  0.55391104, -0.21337444],\n",
       "        [-0.20547584, -0.4105299 , -0.22244703, -0.11108153,  0.85289102]]),\n",
       " array([[ -1.48610068e+00,  -1.20101721e+00,  -9.12310434e-01],\n",
       "        [ -3.46944695e-18,  -5.56130121e-01,  -2.83410789e-01],\n",
       "        [ -1.66533454e-16,   0.00000000e+00,   8.53753969e-01],\n",
       "        [ -3.33066907e-16,   0.00000000e+00,   1.11022302e-16],\n",
       "        [ -1.11022302e-16,   0.00000000e+00,   5.55111512e-17]]))"
      ]
     },
     "execution_count": 18,
     "metadata": {},
     "output_type": "execute_result"
    }
   ],
   "source": [
    "A = np.random.random((5,3))\n",
    "Q_,R_ = qr_householder(A)\n",
    "Q_,R_"
   ]
  },
  {
   "cell_type": "code",
   "execution_count": 19,
   "metadata": {
    "collapsed": false
   },
   "outputs": [
    {
     "data": {
      "text/plain": [
       "(array([[-0.66297693,  0.46830431,  0.48639777, -0.28345764,  0.15563303],\n",
       "        [-0.00605602, -0.37892543,  0.68939075,  0.61268363,  0.07574962],\n",
       "        [-0.31774128, -0.6844525 ,  0.09144749, -0.47446179, -0.44394663],\n",
       "        [-0.6459451 , -0.0098265 , -0.47990861,  0.55391104, -0.21337444],\n",
       "        [-0.20547584, -0.4105299 , -0.22244703, -0.11108153,  0.85289102]]),\n",
       " array([[-1.48610068, -1.20101721, -0.91231043],\n",
       "        [ 0.        , -0.55613012, -0.28341079],\n",
       "        [ 0.        ,  0.        ,  0.85375397],\n",
       "        [ 0.        ,  0.        ,  0.        ],\n",
       "        [ 0.        ,  0.        ,  0.        ]]))"
      ]
     },
     "execution_count": 19,
     "metadata": {},
     "output_type": "execute_result"
    }
   ],
   "source": [
    "Q,R = la.qr(A)\n",
    "Q,R"
   ]
  },
  {
   "cell_type": "markdown",
   "metadata": {},
   "source": [
    "### Problem 5 \n",
    "Write a function that accepts a nonsingular $nxn$ matrix $A$. Use Algorithm 3.3 to compute its upper Hessenberg form, upper Hessenberg H and orthogonal $Q$ satisfying $A = QHQ^T$.\n",
    "Test your function and compare your results to `scipy.linalg.hessenberg()`."
   ]
  },
  {
   "cell_type": "code",
   "execution_count": 20,
   "metadata": {
    "collapsed": true
   },
   "outputs": [],
   "source": [
    "def hessenberg(A):\n",
    "    m,n = A.shape\n",
    "    H = A.copy()\n",
    "    Q = np.eye(m)\n",
    "    sign = lambda x: 1 if x==0 else np.sign(x)\n",
    "    for k in range(n-2):\n",
    "        u = H[k+1:,k].copy()\n",
    "        u[0] = u[0] +sign(u[0])*np.linalg.norm(u)\n",
    "        u = u/np.linalg.norm(u)\n",
    "        H[k+1:,k:] -= 2*np.outer(u,(np.dot(u.T, H[k+1:,k:])))\n",
    "        H[:,k+1:] -= 2*np.dot(np.dot(H[:,k+1:], u[:,None]),u.T[None, :])\n",
    "        Q[k+1:,:] -= 2*np.outer(u, np.dot(u.T, Q[k+1:,:]))\n",
    "    return H,Q.T"
   ]
  },
  {
   "cell_type": "code",
   "execution_count": 21,
   "metadata": {
    "collapsed": true
   },
   "outputs": [],
   "source": [
    "A = np.random.random((8,8))"
   ]
  },
  {
   "cell_type": "code",
   "execution_count": 22,
   "metadata": {
    "collapsed": false
   },
   "outputs": [],
   "source": [
    "H_,Q_ = hessenberg(A)"
   ]
  },
  {
   "cell_type": "code",
   "execution_count": 23,
   "metadata": {
    "collapsed": false
   },
   "outputs": [
    {
     "name": "stdout",
     "output_type": "stream",
     "text": [
      "True\n",
      "True\n"
     ]
    }
   ],
   "source": [
    "print(np.allclose(np.triu(H_, -1), H_))\n",
    "print(np.allclose(np.dot(np.dot(Q_, H_), Q_.T), A))"
   ]
  },
  {
   "cell_type": "code",
   "execution_count": 24,
   "metadata": {
    "collapsed": false
   },
   "outputs": [],
   "source": [
    "H,Q = sp.linalg.hessenberg(A, calc_q=True)"
   ]
  },
  {
   "cell_type": "code",
   "execution_count": 25,
   "metadata": {
    "collapsed": false
   },
   "outputs": [
    {
     "name": "stdout",
     "output_type": "stream",
     "text": [
      "True\n",
      "True\n"
     ]
    }
   ],
   "source": [
    "print(np.allclose(np.triu(H, -1), H))\n",
    "print(np.allclose(np.dot(np.dot(Q, H), Q.T), A))"
   ]
  },
  {
   "cell_type": "markdown",
   "metadata": {},
   "source": [
    "Additional Exercises"
   ]
  },
  {
   "cell_type": "code",
   "execution_count": 26,
   "metadata": {
    "collapsed": true
   },
   "outputs": [],
   "source": [
    "def givens(A):\n",
    "    m,n = A.shape\n",
    "    R = A.copy()\n",
    "    Q = np.eye(m)\n",
    "    for j in range(n):\n",
    "        for i in range(m-1,j,-1):\n",
    "            a,b = R[i-1,j],R[i,j]\n",
    "            G = np.array([[a,b],[-b,a]])/np.sqrt(a**2+b**2)\n",
    "            \n",
    "            R[i-1:i+1,j:] = np.dot(G, R[i-1:i+1, j:])\n",
    "            Q[i-1:i+1,:] = np.dot(G, Q[i-1:i+1, :])\n",
    "    return Q.T,R"
   ]
  },
  {
   "cell_type": "code",
   "execution_count": 27,
   "metadata": {
    "collapsed": false
   },
   "outputs": [],
   "source": [
    "A =np.random.random((9,9))"
   ]
  },
  {
   "cell_type": "code",
   "execution_count": 28,
   "metadata": {
    "collapsed": false
   },
   "outputs": [
    {
     "name": "stdout",
     "output_type": "stream",
     "text": [
      "True\n"
     ]
    }
   ],
   "source": [
    "Q,R = givens(A)\n",
    "print(np.allclose(np.dot(Q,R), A))"
   ]
  },
  {
   "cell_type": "code",
   "execution_count": 29,
   "metadata": {
    "collapsed": true
   },
   "outputs": [],
   "source": [
    "def givens_hessenberg(H):\n",
    "    #H should be an upper Hessenberg form\n",
    "    m,n = H.shape\n",
    "    R = H.copy()\n",
    "    Q = np.eye(m)\n",
    "    for j in range(min(n-1, m-1)):\n",
    "        i = j+1\n",
    "        a,b = R[i-1,j], R[i,j]\n",
    "        G = np.array([[a,b],[-b,a]])/np.sqrt(a**2+b**2)\n",
    "        R[i-1:i+1,j:] = np.dot(G, R[i-1:i+1,j:])\n",
    "        Q[i-1:i+1,:i+1] = np.dot(G, Q[i-1:i+1,:i+1])\n",
    "    return Q.T, R"
   ]
  },
  {
   "cell_type": "code",
   "execution_count": 30,
   "metadata": {
    "collapsed": false
   },
   "outputs": [
    {
     "name": "stdout",
     "output_type": "stream",
     "text": [
      "True\n"
     ]
    }
   ],
   "source": [
    "\n",
    "Q_,R_ = givens_hessenberg(H)\n",
    "print(np.allclose(np.dot(Q_,R_), H))"
   ]
  }
 ],
 "metadata": {
  "anaconda-cloud": {},
  "kernelspec": {
   "display_name": "Python [conda env:impact]",
   "language": "python",
   "name": "conda-env-impact-py"
  },
  "language_info": {
   "codemirror_mode": {
    "name": "ipython",
    "version": 3
   },
   "file_extension": ".py",
   "mimetype": "text/x-python",
   "name": "python",
   "nbconvert_exporter": "python",
   "pygments_lexer": "ipython3",
   "version": "3.6.0"
  }
 },
 "nbformat": 4,
 "nbformat_minor": 1
}
