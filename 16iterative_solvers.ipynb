{
 "cells": [
  {
   "cell_type": "code",
   "execution_count": 1,
   "metadata": {
    "collapsed": true
   },
   "outputs": [],
   "source": [
    "import numpy as np\n",
    "import scipy as sp\n",
    "from scipy import stats\n",
    "import pandas as pd\n",
    "import sympy as sy\n",
    "import scipy.linalg as la \n",
    "import scipy.sparse.linalg as spla\n",
    "import time \n",
    "import matplotlib.pyplot as plt\n",
    "import cmath\n",
    "from utils import helper\n",
    "sy.init_printing()\n",
    "%matplotlib inline"
   ]
  },
  {
   "cell_type": "markdown",
   "metadata": {},
   "source": [
    "## Iterative Methods\n",
    "\n",
    "### 1.) The Jacobi Method\n"
   ]
  },
  {
   "cell_type": "code",
   "execution_count": 2,
   "metadata": {
    "collapsed": true
   },
   "outputs": [],
   "source": [
    "A = np.array([[2, 0, -1],\n",
    "              [-1, 3, 2],\n",
    "              [0, 1, 3]])\n",
    "b = np.array([3, 3, -1])"
   ]
  },
  {
   "cell_type": "markdown",
   "metadata": {},
   "source": [
    "### Problem 1. \n",
    "Write a function that accepts a matrix $A$, a vector $b$, a convergence tolerance $\\epsilon$, and a maximum number of iterations $N$. Implement the Jacobi method using Equation 16.3, returning the approximate solution to the equation $Ax = b$.\n",
    "\n",
    "Run the iteration until $|| x^{(k-1)} - x^{(k)}||_\\infty < \\epsilon$ and only iterate at most $N$ times. Avoid using `la.inv()` to calculate $D^{-1}$, but use `la.norm()` to calculate the vector $\\infty$-norm $||x||_\\infty = sup  |x_i|$\n",
    "\n",
    "￼\n",
    "    >>> from scipy import linalg as la\n",
    "    >>> x = np.random.random(10)\n",
    "    >>> la.norm(x, ord=np.inf)\n",
    "    0.74623726404168045\n",
    "    >>> np.max(np.abs(x))\n",
    "    0.74623726404168045\n",
    "\n",
    "Your function should be robust enough to accept systems of any size. To test your function, use the following function to generate an $n \\times n$ matrix $A$ for which the Jacobi method is guaranteed to converge.\n",
    "\n",
    "    def diag_dom(n, num_entries=None):\n",
    "        \"\"\"Generate a strictly diagonally dominant nxn matrix.\n",
    "        Inputs:\n",
    "            n (int): the dimension of the system.\n",
    "            num_entries (int): the number of nonzero values\n",
    "                Defaults to n^(3/2)-n.\n",
    "        Returns:\n",
    "            A ((n,n) ndarray): An nxn strictly diagonally dominant matrix.\n",
    "        \"\"\"\n",
    "        if num_entries is None:\n",
    "            num_entries = int(n**1.5) - n\n",
    "        A = np.zeros((n,n))\n",
    "        rows = np.random.choice(np.arange(0,n), size=num_entries)\n",
    "        cols = np.random.choice(np.arange(0,n), size=num_entries)\n",
    "        data = np.random.randint(-4, 4, size=num_entries)\n",
    "        for i in xrange(num_entries):\n",
    "            A[rows[i], cols[i]] = data[i]\n",
    "        for i in xrange(n):\n",
    "            A[i,i] = np.sum(np.abs(A[i])) + 1\n",
    "        return A\n",
    "        \n",
    "Generate a random $b$ with `np.random.random()`. Run the iteration, then check that $Ax(k)$ and $b$ are close using `np.allclose()`.\n",
    "\n",
    "Also test your function on random $n x n$ matrices. If the iteration is non-convergent, the successive approximations will have increasingly large entries."
   ]
  },
  {
   "cell_type": "code",
   "execution_count": 3,
   "metadata": {
    "collapsed": true
   },
   "outputs": [],
   "source": [
    "def diag_dom(n, num_entries=None):\n",
    "    \"\"\"Generate a strictly diagonally dominant nxn matrix.\n",
    "    Inputs:\n",
    "        n (int): the dimension of the system.\n",
    "        num_entries (int): the number of nonzero values\n",
    "            Defaults to n^(3/2)-n.\n",
    "    Returns:\n",
    "        A ((n,n) ndarray): An nxn strictly diagonally dominant matrix.\n",
    "    \"\"\"\n",
    "    if num_entries is None:\n",
    "        num_entries = int(n**1.5) - n\n",
    "    A = np.zeros((n,n))\n",
    "    rows = np.random.choice(np.arange(0,n), size=num_entries)\n",
    "    cols = np.random.choice(np.arange(0,n), size=num_entries)\n",
    "    data = np.random.randint(-4, 4, size=num_entries)\n",
    "    for i in range(num_entries):\n",
    "        A[rows[i], cols[i]] = data[i]\n",
    "    for i in range(n):\n",
    "        A[i,i] = np.sum(np.abs(A[i])) + 1\n",
    "    return A"
   ]
  },
  {
   "cell_type": "code",
   "execution_count": 4,
   "metadata": {
    "collapsed": true
   },
   "outputs": [],
   "source": [
    "def jacobi_iteration(A, b, eps, N, plot=False):\n",
    "    x_0 = np.zeros(len(b))\n",
    "    d = np.diag(A)\n",
    "    \n",
    "    #error handling\n",
    "    if np.any(d==0):\n",
    "        return \"Has zero diagonal\"\n",
    "    \n",
    "    def plotter(arr):\n",
    "        plt.title(\"Convergence of Jacobi Method\")\n",
    "        plt.ylabel(\"Absolute Error of Approximation\")\n",
    "        plt.xlabel(\"Iteration #\")\n",
    "        plt.semilogy(arr)\n",
    "    \n",
    "    abs_diffs = []\n",
    "    for i in range(N):\n",
    "        x_1 = x_0 + (b - np.dot(A, x_0))/d\n",
    "        diff = la.norm(x_1 - x_0)\n",
    "        abs_diffs.append(diff)\n",
    "        if diff<eps:\n",
    "            if plot:\n",
    "                plotter(abs_diffs)\n",
    "            return x_1\n",
    "        x_0 = x_1\n",
    "    if plot:\n",
    "        plotter(abs_diffs)\n",
    "    return x_1"
   ]
  },
  {
   "cell_type": "code",
   "execution_count": 5,
   "metadata": {
    "collapsed": false,
    "scrolled": true
   },
   "outputs": [
    {
     "data": {
      "text/plain": [
       "array([ 3.,  3., -1.])"
      ]
     },
     "execution_count": 5,
     "metadata": {},
     "output_type": "execute_result"
    }
   ],
   "source": [
    "#check with the example in the lab\n",
    "x = jacobi_iteration(A, b, 1e-20, 100)\n",
    "b_ = np.dot(A, x)\n",
    "b_"
   ]
  },
  {
   "cell_type": "code",
   "execution_count": 6,
   "metadata": {
    "collapsed": false
   },
   "outputs": [
    {
     "data": {
      "text/plain": [
       "array([ 3,  3, -1])"
      ]
     },
     "execution_count": 6,
     "metadata": {},
     "output_type": "execute_result"
    }
   ],
   "source": [
    "b"
   ]
  },
  {
   "cell_type": "code",
   "execution_count": 7,
   "metadata": {
    "collapsed": false
   },
   "outputs": [
    {
     "data": {
      "text/plain": [
       "array([ 0.8614604 ,  0.88176508,  0.3983137 ,  0.01455932,  0.6837212 ,\n",
       "        0.14450148,  0.52033926,  0.56502329,  0.89850347,  0.18926956,\n",
       "        0.14227474,  0.18640946,  0.69713629,  0.53490094,  0.9270165 ,\n",
       "        0.09474015,  0.27279238,  0.77903172,  0.39339515,  0.08732566,\n",
       "        0.33496396,  0.8303489 ,  0.03549838,  0.20093265,  0.05321029,\n",
       "        0.15724434,  0.33849074,  0.63968233,  0.61471184,  0.39620327,\n",
       "        0.28062711,  0.87844087,  0.08114646,  0.39121281,  0.72561823,\n",
       "        0.72240511,  0.63486905,  0.43930445,  0.65549053,  0.11006851,\n",
       "        0.27256521,  0.97098149,  0.99816927,  0.4081162 ,  0.5857682 ,\n",
       "        0.2542993 ,  0.21647797,  0.44911066,  0.78725525,  0.56998024,\n",
       "        0.68546584,  0.21800181,  0.17516349,  0.93707792,  0.87818229,\n",
       "        0.49205035,  0.07688536,  0.36492871,  0.29201382,  0.54332069,\n",
       "        0.07695213,  0.32792629,  0.1590146 ,  0.6098419 ,  0.46873001,\n",
       "        0.04112129,  0.27446394,  0.88142161,  0.31947876,  0.61705707,\n",
       "        0.08583838,  0.51758999,  0.78163764,  0.72331495,  0.87572905,\n",
       "        0.37334281,  0.77758625,  0.48401662,  0.32054382,  0.12078386,\n",
       "        0.72386629,  0.05286379,  0.78760107,  0.89091288,  0.32447164,\n",
       "        0.30825773,  0.69771481,  0.99628818,  0.78763145,  0.43301808,\n",
       "        0.32122932,  0.02097205,  0.73595201,  0.23365575,  0.45230007,\n",
       "        0.48513049,  0.0293994 ,  0.68689928,  0.05646211,  0.59189771])"
      ]
     },
     "execution_count": 7,
     "metadata": {},
     "output_type": "execute_result"
    }
   ],
   "source": [
    "#another test\n",
    "n = 100\n",
    "A = diag_dom(n)\n",
    "b = np.random.random(n)\n",
    "\n",
    "x = jacobi_iteration(A, b, 1e-20, 100)\n",
    "b_ = np.dot(A,x)\n",
    "b_"
   ]
  },
  {
   "cell_type": "code",
   "execution_count": 8,
   "metadata": {
    "collapsed": false
   },
   "outputs": [
    {
     "data": {
      "text/plain": [
       "array([ 0.8614604 ,  0.88176508,  0.3983137 ,  0.01455932,  0.6837212 ,\n",
       "        0.14450148,  0.52033926,  0.56502329,  0.89850347,  0.18926956,\n",
       "        0.14227474,  0.18640946,  0.69713629,  0.53490094,  0.9270165 ,\n",
       "        0.09474015,  0.27279238,  0.77903172,  0.39339515,  0.08732566,\n",
       "        0.33496396,  0.8303489 ,  0.03549838,  0.20093265,  0.05321029,\n",
       "        0.15724434,  0.33849074,  0.63968233,  0.61471184,  0.39620327,\n",
       "        0.28062711,  0.87844087,  0.08114646,  0.39121281,  0.72561823,\n",
       "        0.72240511,  0.63486905,  0.43930445,  0.65549053,  0.11006851,\n",
       "        0.27256521,  0.97098149,  0.99816927,  0.4081162 ,  0.5857682 ,\n",
       "        0.2542993 ,  0.21647797,  0.44911066,  0.78725525,  0.56998024,\n",
       "        0.68546584,  0.21800181,  0.17516349,  0.93707792,  0.87818229,\n",
       "        0.49205035,  0.07688536,  0.36492871,  0.29201382,  0.54332069,\n",
       "        0.07695213,  0.32792629,  0.1590146 ,  0.6098419 ,  0.46873001,\n",
       "        0.04112129,  0.27446394,  0.88142161,  0.31947876,  0.61705707,\n",
       "        0.08583838,  0.51758999,  0.78163764,  0.72331495,  0.87572905,\n",
       "        0.37334281,  0.77758625,  0.48401662,  0.32054382,  0.12078386,\n",
       "        0.72386629,  0.05286379,  0.78760107,  0.89091288,  0.32447164,\n",
       "        0.30825773,  0.69771481,  0.99628818,  0.78763145,  0.43301808,\n",
       "        0.32122932,  0.02097205,  0.73595201,  0.23365575,  0.45230007,\n",
       "        0.48513049,  0.0293994 ,  0.68689928,  0.05646211,  0.59189771])"
      ]
     },
     "execution_count": 8,
     "metadata": {},
     "output_type": "execute_result"
    }
   ],
   "source": [
    "b"
   ]
  },
  {
   "cell_type": "code",
   "execution_count": 9,
   "metadata": {
    "collapsed": false
   },
   "outputs": [
    {
     "data": {
      "text/plain": [
       "True"
      ]
     },
     "execution_count": 9,
     "metadata": {},
     "output_type": "execute_result"
    }
   ],
   "source": [
    "np.allclose(b_, b)"
   ]
  },
  {
   "cell_type": "markdown",
   "metadata": {},
   "source": [
    "### Problem 2.\n",
    "\n",
    "Modify your Jacobi method function in the following ways:\n",
    "\n",
    "1. Add a keyword argument called `plot`, defaulting to `False`.\n",
    "2. Keep track of the absolute error $||Ax^k  - b||_\\infty$ of the approximation for each value of $k$.\n",
    "3. If `plot` is `True`, produce a lin-log plot the error against iteration count (use `plt.semilogy()` instead of `plt.plot()`). Return the approximate solution x even if `plot` is `True`.\n"
   ]
  },
  {
   "cell_type": "code",
   "execution_count": 10,
   "metadata": {
    "collapsed": false
   },
   "outputs": [
    {
     "data": {
      "text/plain": [
       "array([ 0.35814814,  0.99280224,  0.83352895,  0.65120244,  0.66758843,\n",
       "        0.65191353,  0.12841149,  0.61299246,  0.08473206,  0.51453535,\n",
       "        0.21821286,  0.64566635,  0.83822755,  0.88578231,  0.32329971,\n",
       "        0.58181627,  0.24955414,  0.13475242,  0.42805752,  0.53320951,\n",
       "        0.71838896,  0.52987207,  0.58878303,  0.59963744,  0.26326393,\n",
       "        0.59574202,  0.22622667,  0.17874485,  0.6489578 ,  0.34625371,\n",
       "        0.39654083,  0.67505169,  0.35378626,  0.08286728,  0.10817591,\n",
       "        0.109385  ,  0.62660307,  0.90177047,  0.51717717,  0.1028377 ,\n",
       "        0.59712225,  0.41032602,  0.24020945,  0.49077703,  0.05294464,\n",
       "        0.03147081,  0.47378227,  0.64933052,  0.25404856,  0.84142582,\n",
       "        0.77125258,  0.63031815,  0.57255052,  0.95623472,  0.54144934,\n",
       "        0.21336788,  0.07571036,  0.69267706,  0.17433148,  0.08679206,\n",
       "        0.97179055,  0.87963632,  0.11342304,  0.80019113,  0.16162798,\n",
       "        0.78360879,  0.06572526,  0.84973674,  0.77941395,  0.92894166,\n",
       "        0.52853631,  0.54683682,  0.04601625,  0.35002841,  0.97345955,\n",
       "        0.58741476,  0.63115133,  0.29461103,  0.97320829,  0.01618599,\n",
       "        0.24222381,  0.72478101,  0.44160719,  0.21535351,  0.7310303 ,\n",
       "        0.24386616,  0.86582409,  0.44101195,  0.21308952,  0.96248247,\n",
       "        0.36549089,  0.02533648,  0.24850542,  0.72103405,  0.56580904,\n",
       "        0.20256353,  0.68555906,  0.48486077,  0.4768045 ,  0.86779066,\n",
       "        0.62154422,  0.95559206,  0.39543273,  0.47097549,  0.32393278,\n",
       "        0.40066358,  0.49162592,  0.96079931,  0.74594614,  0.08332442,\n",
       "        0.41277596,  0.98116325,  0.50005774,  0.9818265 ,  0.28320463,\n",
       "        0.80401723,  0.81015753,  0.51830695,  0.19156478,  0.64251509,\n",
       "        0.42686048,  0.8336258 ,  0.94732228,  0.17859548,  0.32114797,\n",
       "        0.31693997,  0.97113717,  0.21946471,  0.30013908,  0.18578849,\n",
       "        0.54963796,  0.91978805,  0.21599341,  0.61126673,  0.64460176,\n",
       "        0.0621456 ,  0.05795597,  0.90724121,  0.90153108,  0.88332525,\n",
       "        0.0858387 ,  0.35354438,  0.27526075,  0.34553632,  0.21139254,\n",
       "        0.06254831,  0.43088102,  0.14211493,  0.56455824,  0.0763949 ,\n",
       "        0.16974301,  0.68269968,  0.57830231,  0.86690069,  0.03442886,\n",
       "        0.0601032 ,  0.33593765,  0.84814316,  0.35261358,  0.40817351,\n",
       "        0.12821795,  0.77143531,  0.1935559 ,  0.41491259,  0.54082218,\n",
       "        0.37006727,  0.47281097,  0.350948  ,  0.51425733,  0.6791971 ,\n",
       "        0.49339699,  0.04655108,  0.71102806,  0.32773085,  0.18020044,\n",
       "        0.99713939,  0.19851846,  0.9390958 ,  0.24947295,  0.54108833,\n",
       "        0.90414776,  0.94434274,  0.89160692,  0.48235905,  0.02852487,\n",
       "        0.92256671,  0.56791143,  0.55507079,  0.52046135,  0.99385718,\n",
       "        0.47122292,  0.9680764 ,  0.47453315,  0.73065638,  0.11541284,\n",
       "        0.90831588,  0.15254837,  0.82667715,  0.51738053,  0.23716973,\n",
       "        0.91305131,  0.08090278,  0.12889818,  0.50173717,  0.52338863,\n",
       "        0.23885879,  0.28081301,  0.97504202,  0.89986836,  0.79705917,\n",
       "        0.58270994,  0.1170323 ,  0.36662375,  0.28353273,  0.57654203,\n",
       "        0.81431766,  0.57671364,  0.66258381,  0.71926015,  0.43114359,\n",
       "        0.69472161,  0.1808094 ,  0.87853695,  0.16731578,  0.06874914,\n",
       "        0.44272714,  0.53687437,  0.55085398,  0.87011724,  0.66755623,\n",
       "        0.10653913,  0.86054909,  0.48014717,  0.14221575,  0.07770526,\n",
       "        0.54549583,  0.50305483,  0.81530241,  0.44355223,  0.22502326,\n",
       "        0.98286126,  0.31795094,  0.08142691,  0.73835992,  0.26887031,\n",
       "        0.27565263,  0.25467859,  0.36094666,  0.34690277,  0.94696292,\n",
       "        0.30695277,  0.05111973,  0.92296939,  0.68921835,  0.38269324,\n",
       "        0.88503483,  0.51020108,  0.68101751,  0.68885479,  0.48003504,\n",
       "        0.77211953,  0.65393351,  0.80600617,  0.82479872,  0.9033681 ,\n",
       "        0.13294476,  0.23322835,  0.21856975,  0.72860645,  0.81038959,\n",
       "        0.95480897,  0.27819143,  0.77917037,  0.21073645,  0.11521263,\n",
       "        0.44239797,  0.024014  ,  0.92499846,  0.41752379,  0.61909117,\n",
       "        0.65954253,  0.54995843,  0.13670155,  0.99757171,  0.37394193,\n",
       "        0.54788427,  0.66191387,  0.88811035,  0.29979989,  0.31339475,\n",
       "        0.69433385,  0.09253677,  0.28581125,  0.10753059,  0.73348744,\n",
       "        0.45779144,  0.43162257,  0.497999  ,  0.55965816,  0.72782877,\n",
       "        0.11378298,  0.59163139,  0.68393519,  0.61814239,  0.09013057,\n",
       "        0.8551289 ,  0.87283708,  0.54125975,  0.94209281,  0.42284815,\n",
       "        0.7664144 ,  0.45898759,  0.35557502,  0.90663571,  0.37483677,\n",
       "        0.26969341,  0.8815445 ,  0.23427856,  0.89270454,  0.99982076,\n",
       "        0.05963624,  0.37489507,  0.44007368,  0.66452209,  0.26810061,\n",
       "        0.16126972,  0.65422885,  0.84100777,  0.54978062,  0.06181718,\n",
       "        0.73743033,  0.71845301,  0.46288253,  0.10640704,  0.02256377,\n",
       "        0.96488724,  0.83107184,  0.02912153,  0.03377232,  0.55901138,\n",
       "        0.60816524,  0.63946711,  0.67204517,  0.29099674,  0.11187648,\n",
       "        0.61526978,  0.33602489,  0.43872299,  0.3009612 ,  0.48070258,\n",
       "        0.30555691,  0.44623869,  0.08572733,  0.64694926,  0.88859345,\n",
       "        0.12852498,  0.40694604,  0.26401658,  0.02703761,  0.83730074,\n",
       "        0.39920586,  0.39796442,  0.42559311,  0.50493169,  0.7189521 ,\n",
       "        0.22471768,  0.43738429,  0.48906022,  0.19919567,  0.81994373,\n",
       "        0.32546075,  0.38248199,  0.82581448,  0.37431508,  0.43424592,\n",
       "        0.06631933,  0.03674534,  0.96851266,  0.30958757,  0.23013214,\n",
       "        0.75901279,  0.22926069,  0.31224196,  0.70989686,  0.93841499,\n",
       "        0.43106421,  0.34542972,  0.90526881,  0.58300572,  0.25128327,\n",
       "        0.45420582,  0.20916719,  0.01918184,  0.45376747,  0.23035135,\n",
       "        0.0887863 ,  0.78122233,  0.91680082,  0.62651962,  0.35167047,\n",
       "        0.65403849,  0.09965528,  0.813558  ,  0.2015697 ,  0.71497072,\n",
       "        0.90769803,  0.70252636,  0.85408586,  0.4977595 ,  0.69410184,\n",
       "        0.51551752,  0.85693266,  0.4520419 ,  0.58768224,  0.91178749,\n",
       "        0.29491663,  0.16164275,  0.02330319,  0.34530668,  0.95591522,\n",
       "        0.31875734,  0.66738741,  0.62175519,  0.79953848,  0.36813615,\n",
       "        0.89821142,  0.41951665,  0.68901095,  0.92258459,  0.75639956,\n",
       "        0.6690662 ,  0.79857902,  0.11328177,  0.16713722,  0.88394547,\n",
       "        0.73398589,  0.72844788,  0.99338083,  0.14179153,  0.39671138,\n",
       "        0.35434442,  0.82298273,  0.19679949,  0.9605415 ,  0.86585936,\n",
       "        0.95021074,  0.9585608 ,  0.28309101,  0.74121991,  0.92461306,\n",
       "        0.13443369,  0.01428493,  0.10491087,  0.26207242,  0.52880069,\n",
       "        0.51301687,  0.05063906,  0.17760104,  0.57491613,  0.97989838,\n",
       "        0.53299905,  0.44282799,  0.4098869 ,  0.00598616,  0.19355961,\n",
       "        0.22498069,  0.26287885,  0.18466013,  0.51685664,  0.18459077,\n",
       "        0.53489627,  0.83093647,  0.81439902,  0.191187  ,  0.24671417,\n",
       "        0.6589081 ,  0.44031619,  0.50268921,  0.92421414,  0.77291504,\n",
       "        0.99986992,  0.83713702,  0.53974896,  0.42607693,  0.36097282,\n",
       "        0.71154183,  0.12041646,  0.69748774,  0.16950616,  0.41695447,\n",
       "        0.37428464,  0.45186251,  0.98201029,  0.94378046,  0.00797956,\n",
       "        0.20033112,  0.00976846,  0.38144138,  0.30979428,  0.59861934,\n",
       "        0.6637127 ,  0.91569757,  0.15190078,  0.92275242,  0.2472476 ,\n",
       "        0.25613415,  0.39200538,  0.00101133,  0.58064491,  0.56111089,\n",
       "        0.28917134,  0.85004374,  0.89650677,  0.28508627,  0.59348207,\n",
       "        0.62141858,  0.75239193,  0.83078898,  0.57899566,  0.29391013,\n",
       "        0.65083531,  0.70576658,  0.04353908,  0.78951489,  0.46633277,\n",
       "        0.58899201,  0.81108019,  0.71583335,  0.04062044,  0.52717385,\n",
       "        0.41141646,  0.58721195,  0.10699325,  0.79390387,  0.15748138,\n",
       "        0.69963021,  0.36856051,  0.46162677,  0.12156357,  0.55945276,\n",
       "        0.08472225,  0.38645656,  0.01174893,  0.74837932,  0.99275482,\n",
       "        0.73143202,  0.15427286,  0.91489026,  0.03761333,  0.13738455,\n",
       "        0.84639706,  0.30075459,  0.82873066,  0.23076763,  0.44946694,\n",
       "        0.99591273,  0.61770734,  0.39082128,  0.66401203,  0.16747237,\n",
       "        0.65162299,  0.35764495,  0.425054  ,  0.08703256,  0.86483622,\n",
       "        0.02441875,  0.31865411,  0.65615305,  0.4399601 ,  0.99758902,\n",
       "        0.51949251,  0.40351267,  0.53863638,  0.75093728,  0.58850193,\n",
       "        0.58732069,  0.84477016,  0.44061907,  0.65129788,  0.4483049 ,\n",
       "        0.61914051,  0.36368484,  0.43871474,  0.71304987,  0.20010687,\n",
       "        0.8868871 ,  0.27322353,  0.94349475,  0.95468737,  0.7864366 ,\n",
       "        0.0892846 ,  0.32303815,  0.30219078,  0.31728313,  0.7779227 ,\n",
       "        0.28258456,  0.24984799,  0.84835163,  0.60292654,  0.09362422,\n",
       "        0.18744306,  0.89873025,  0.50131882,  0.21071705,  0.14489772,\n",
       "        0.93458082,  0.21713626,  0.42873183,  0.39725278,  0.23705214,\n",
       "        0.29218967,  0.76432485,  0.29450155,  0.40748084,  0.75650102,\n",
       "        0.94174195,  0.36394429,  0.92654609,  0.04698905,  0.54831023,\n",
       "        0.62823247,  0.57038628,  0.89410413,  0.81283679,  0.18423163,\n",
       "        0.84602113,  0.7336918 ,  0.44774231,  0.24439994,  0.39044377,\n",
       "        0.04310415,  0.58216096,  0.20825109,  0.17820457,  0.46163394,\n",
       "        0.32125073,  0.14946966,  0.86332341,  0.20516167,  0.70568654,\n",
       "        0.84853485,  0.64816631,  0.0485939 ,  0.79907735,  0.72416131,\n",
       "        0.28389364,  0.39395199,  0.52907896,  0.38147334,  0.12255202,\n",
       "        0.22302155,  0.97900847,  0.05239109,  0.21638195,  0.80441684,\n",
       "        0.92162692,  0.23904637,  0.39540148,  0.54696436,  0.92661122,\n",
       "        0.66775859,  0.62301978,  0.70887499,  0.68442164,  0.99797704,\n",
       "        0.46170023,  0.94275146,  0.68343798,  0.38451915,  0.87929403,\n",
       "        0.08726688,  0.78979439,  0.69012412,  0.35200787,  0.47385924,\n",
       "        0.56976957,  0.30327206,  0.53443255,  0.41858981,  0.99588972,\n",
       "        0.57493716,  0.54291591,  0.07661639,  0.19818351,  0.82350657,\n",
       "        0.90806542,  0.34097177,  0.64137608,  0.24094479,  0.62890493,\n",
       "        0.31447312,  0.01475109,  0.73933336,  0.41839694,  0.44229837,\n",
       "        0.4209919 ,  0.9569735 ,  0.79332489,  0.3106927 ,  0.54492011,\n",
       "        0.14331464,  0.3849628 ,  0.57957209,  0.21151017,  0.59450457,\n",
       "        0.63262996,  0.93407102,  0.61051724,  0.22079696,  0.92983765,\n",
       "        0.23263101,  0.94506103,  0.11787299,  0.13726262,  0.23713181,\n",
       "        0.00347177,  0.47376888,  0.29526382,  0.28437954,  0.19780882,\n",
       "        0.94242006,  0.37459583,  0.98828087,  0.41302541,  0.07322037,\n",
       "        0.38245008,  0.73648299,  0.19949996,  0.73722547,  0.54899691,\n",
       "        0.32746681,  0.06890658,  0.80328393,  0.58452901,  0.74564542,\n",
       "        0.96735432,  0.70069224,  0.22413492,  0.6964827 ,  0.74455178,\n",
       "        0.35767127,  0.23441449,  0.83432231,  0.45121936,  0.42315044,\n",
       "        0.67363945,  0.70600142,  0.64643541,  0.33263962,  0.36316161,\n",
       "        0.48685686,  0.51717154,  0.97072226,  0.01355112,  0.3663281 ,\n",
       "        0.29832956,  0.04709815,  0.68795472,  0.73213118,  0.6502659 ,\n",
       "        0.70395655,  0.34576928,  0.39614864,  0.61942131,  0.57435457,\n",
       "        0.05602646,  0.58554613,  0.07480525,  0.18685221,  0.54935941,\n",
       "        0.34011239,  0.84836961,  0.0452263 ,  0.87551505,  0.38759777,\n",
       "        0.76603721,  0.36165597,  0.770766  ,  0.30799442,  0.05499395,\n",
       "        0.96347151,  0.31284267,  0.35553814,  0.09652829,  0.95223417,\n",
       "        0.32888355,  0.68979223,  0.11199787,  0.29992136,  0.05764156,\n",
       "        0.20772411,  0.77124652,  0.29696169,  0.01038087,  0.97286761,\n",
       "        0.25138516,  0.44131112,  0.12556774,  0.54310611,  0.13888009,\n",
       "        0.18851821,  0.40330428,  0.87083446,  0.71297616,  0.55818278,\n",
       "        0.25491478,  0.59922926,  0.32733292,  0.85362673,  0.35287315,\n",
       "        0.89036066,  0.06967228,  0.24527357,  0.77354589,  0.90772181,\n",
       "        0.2039349 ,  0.96475578,  0.14305311,  0.75396069,  0.44038875,\n",
       "        0.6567932 ,  0.29570092,  0.3904263 ,  0.67443483,  0.21033843,\n",
       "        0.2533464 ,  0.38126196,  0.83275236,  0.22503217,  0.48446802,\n",
       "        0.30999181,  0.90478957,  0.8344148 ,  0.68368286,  0.06396372,\n",
       "        0.39158418,  0.20352669,  0.69530233,  0.29832797,  0.04705214,\n",
       "        0.71286813,  0.26551662,  0.09103648,  0.40347661,  0.25971356,\n",
       "        0.73812775,  0.76397736,  0.19909767,  0.22287549,  0.58656292,\n",
       "        0.423001  ,  0.2892164 ,  0.22025428,  0.3694691 ,  0.53973368,\n",
       "        0.53226413,  0.45284003,  0.63854522,  0.43547919,  0.97193176,\n",
       "        0.32573609,  0.7838889 ,  0.92951737,  0.28929925,  0.97077959,\n",
       "        0.53498848,  0.32056279,  0.47208827,  0.90343474,  0.17604227,\n",
       "        0.72436912,  0.1832237 ,  0.97975901,  0.44328384,  0.01693391,\n",
       "        0.85224078,  0.26098848,  0.56223728,  0.55365309,  0.8944897 ,\n",
       "        0.40777714,  0.36649383,  0.74308421,  0.77350487,  0.61955612,\n",
       "        0.68178295,  0.45480802,  0.76983568,  0.85223163,  0.45768029,\n",
       "        0.4884185 ,  0.2329316 ,  0.03294832,  0.56885788,  0.94791341,\n",
       "        0.5719535 ,  0.73187701,  0.06527646,  0.69146532,  0.59802012,\n",
       "        0.8128845 ,  0.93599091,  0.33339266,  0.00943535,  0.55223581,\n",
       "        0.16983814,  0.39500421,  0.17271433,  0.85001161,  0.09057087,\n",
       "        0.02600849,  0.4372412 ,  0.98043108,  0.18670437,  0.77222366,\n",
       "        0.81684299,  0.71997058,  0.58137203,  0.25222016,  0.58315712,\n",
       "        0.2282473 ,  0.55872652,  0.00301892,  0.31819836,  0.7558717 ,\n",
       "        0.39607623,  0.60967815,  0.79299624,  0.82824151,  0.54402928,\n",
       "        0.35572032,  0.1001263 ,  0.56758743,  0.74411235,  0.6398403 ,\n",
       "        0.27077622,  0.51533567,  0.48408371,  0.53741392,  0.08365001,\n",
       "        0.96422929,  0.83678211,  0.8073462 ,  0.05860483,  0.01514256,\n",
       "        0.24984595,  0.49516868,  0.88353224,  0.7559129 ,  0.37033291,\n",
       "        0.34909442,  0.67930183,  0.23033459,  0.51237759,  0.77309698,\n",
       "        0.3043975 ,  0.65223069,  0.00616702,  0.76071954,  0.05038412,\n",
       "        0.40962574,  0.27619924,  0.15547144,  0.86262329,  0.96797567,\n",
       "        0.26441352,  0.08410849,  0.56093606,  0.25758887,  0.94902487,\n",
       "        0.49569885,  0.04195755,  0.91184893,  0.41366718,  0.3140151 ,\n",
       "        0.46964785,  0.90278724,  0.83848882,  0.99269554,  0.46014916,\n",
       "        0.07256675,  0.43421299,  0.27106644,  0.13983328,  0.00832891,\n",
       "        0.88644077,  0.67154407,  0.79766324,  0.41046637,  0.96092254,\n",
       "        0.02049706,  0.98209701,  0.48957319,  0.82243816,  0.64149654,\n",
       "        0.7131137 ,  0.8152484 ,  0.5290227 ,  0.89343704,  0.12745927])"
      ]
     },
     "execution_count": 10,
     "metadata": {},
     "output_type": "execute_result"
    },
    {
     "data": {
      "image/png": "[encoded data removed]",
      "text/plain": [
       "<matplotlib.figure.Figure at 0x10d471048>"
      ]
     },
     "metadata": {},
     "output_type": "display_data"
    }
   ],
   "source": [
    "#test\n",
    "n = 1000\n",
    "A = diag_dom(n)\n",
    "b = np.random.random(n)\n",
    "\n",
    "x = jacobi_iteration(A, b, 1e-20, 50, plot=True)\n",
    "b_ = np.dot(A,x)\n",
    "b_"
   ]
  },
  {
   "cell_type": "markdown",
   "metadata": {},
   "source": [
    "### 2.) The Gauss-Seidel Method"
   ]
  },
  {
   "cell_type": "markdown",
   "metadata": {},
   "source": [
    "### Problem 3\n",
    "\n",
    "Write a function that accepts a matrix $A$, a vector $b$, a convergence tolerance $\\epsilon$, a amximum number of iterations $N$ and a keyword argument `plot` that defaults to `False`. Implement teh Gauss-Seidel method using Equation 16.5, returning the apprximate solution to the equation $Ax=b$.\n",
    "\n",
    "Use the same stopping criterion as in Problem 1. Also, keep track of the absolute erros of the iteration, as in Problem 2. If plot is True, plot the error against iteration count. Use `diag_dom()` to generate test cases.\n"
   ]
  },
  {
   "cell_type": "code",
   "execution_count": 11,
   "metadata": {
    "collapsed": false
   },
   "outputs": [],
   "source": [
    "def gaussseidel_method(A, b, eps, N, plot=False):\n",
    "    x_0 = np.zeros(len(b))\n",
    "    \n",
    "    def plotter(arr):\n",
    "        plt.title(\"Convergence of Gauss-Seidel Method\")\n",
    "        plt.ylabel(\"Absolute Error of Approximation\")\n",
    "        plt.xlabel(\"Iteration #\")\n",
    "        plt.semilogy(arr)\n",
    "\n",
    "    abs_diffs = []\n",
    "    for i in range(N):\n",
    "        x_1 = np.copy(x_0)\n",
    "        for j in range(len(x_1)):\n",
    "            x_1[j] = x_0[j] + (b[j] - np.dot(A[j], x_0))/A[j,j]\n",
    "        \n",
    "        diff = la.norm(x_1 - x_0)\n",
    "        abs_diffs.append(diff)\n",
    "        if diff<eps:\n",
    "            if plot:\n",
    "                plotter(abs_diffs)\n",
    "            return x_1\n",
    "        x_0 = x_1\n",
    "    if plot:\n",
    "        plotter(abs_diffs)\n",
    "    return x_1"
   ]
  },
  {
   "cell_type": "code",
   "execution_count": 12,
   "metadata": {
    "collapsed": false,
    "scrolled": false
   },
   "outputs": [
    {
     "data": {
      "image/png": "[encoded data removed]",
      "text/plain": [
       "<matplotlib.figure.Figure at 0x11bae7ef0>"
      ]
     },
     "metadata": {},
     "output_type": "display_data"
    }
   ],
   "source": [
    "#test\n",
    "n = 3000\n",
    "A = diag_dom(n)\n",
    "b = np.random.random(n)\n",
    "\n",
    "x_gaussseidel = gaussseidel_method(A, b, 1e-20, 50, plot=True)\n",
    "b_gaussseidel = np.dot(A, x_gaussseidel)"
   ]
  },
  {
   "cell_type": "code",
   "execution_count": 13,
   "metadata": {
    "collapsed": false
   },
   "outputs": [
    {
     "data": {
      "image/png": "[encoded data removed]",
      "text/plain": [
       "<matplotlib.figure.Figure at 0x10d471160>"
      ]
     },
     "metadata": {},
     "output_type": "display_data"
    }
   ],
   "source": [
    "x_jacobi = jacobi_iteration(A, b, 1e-20, 50, plot=True)\n",
    "b_jacobi = np.dot(A, x_jacobi)"
   ]
  },
  {
   "cell_type": "markdown",
   "metadata": {},
   "source": [
    "### Problem 4. \n",
    "The Gauss-Seidel method is faster than the standard system solver used by `la.solve()` if the system is sufficiently large and sufficiently sparse. For each vale of $n = 5, 6, ..., 11$, generate a random $2^n \\times 2^n$ matrix $A$ using `diag_dom()` and a random $2^n$ vector $b$. Time how long it takes to solve $Ax = b$ using your Gauss-Seidel function from Problem 3, and how long it takes to solve using `la.solve()`.\n",
    "\n",
    "Plot the times against the system size. Use log scales if appropriate."
   ]
  },
  {
   "cell_type": "code",
   "execution_count": 14,
   "metadata": {
    "collapsed": false
   },
   "outputs": [],
   "source": [
    "ns = np.arange(5, 12)\n",
    "gaussseidel = []\n",
    "lasolver = []\n",
    "for n in ns:\n",
    "    A = diag_dom(2**n)\n",
    "    b = np.random.random(2**n)\n",
    "    \n",
    "    start = time.time()\n",
    "    x_gauss = gaussseidel_method(A, b, 1e-10, 1000)\n",
    "    end = time.time()\n",
    "    \n",
    "    gaussseidel.append(end-start)\n",
    "    \n",
    "    start = time.time()\n",
    "    x_lasolver = la.solve(A, b)\n",
    "    end = time.time()\n",
    "    \n",
    "    lasolver.append(end - start)"
   ]
  },
  {
   "cell_type": "code",
   "execution_count": 15,
   "metadata": {
    "collapsed": false
   },
   "outputs": [
    {
     "data": {
      "text/plain": [
       "<matplotlib.legend.Legend at 0x11bb54400>"
      ]
     },
     "execution_count": 15,
     "metadata": {},
     "output_type": "execute_result"
    },
    {
     "data": {
      "image/png": "[encoded data removed]",
      "text/plain": [
       "<matplotlib.figure.Figure at 0x11bb4add8>"
      ]
     },
     "metadata": {},
     "output_type": "display_data"
    }
   ],
   "source": [
    "plt.figure(figsize=(15, 6))\n",
    "plt.plot(ns, gaussseidel, 'o-', label=\"Gauss-Seidel Method\")\n",
    "plt.plot(ns, lasolver, 'o-', label=\"`la.solve()` method\")\n",
    "plt.legend(loc=0)"
   ]
  },
  {
   "cell_type": "markdown",
   "metadata": {},
   "source": [
    "### Problem 5. \n",
    "Write a new function that accepts a $sparse$ matrix $A$, a vector $b$, a convergence tolerance $\\epsilon$, and a maximum number of iterations $N$ (plotting the convergence is not required for this problem). Implement the Gauss-Seidel method using Equation 16.5, returning the approximate solution to the equation $Ax = b$. Use the usual stopping criterion.\n",
    "The Gauss-Seidel method requires extracting the rows $A_i$ from the matrix $A$ and computing $A^T_x$. There are many ways to do this that cause some fairly serious runtime issues, so we provide the code for this specific portion of the algorithm.\n",
    "\n",
    "    ￼￼# Slice the i-th row of A and dot product the vector x.\n",
    "    rowstart = A.indptr[i]\n",
    "    rowend = A.indptr[i+1]\n",
    "    Aix = np.dot(A.data[rowstart:rowend], x[A.indices[rowstart:rowend]])\n",
    "    \n",
    "To test your function, cast the result of `diag_dom()` as a sparse matrix.\n",
    "\n",
    "\n",
    "    ￼￼from scipy import sparse\n",
    "    >>> A = sparse.csr_matrix(diag_dom(50000))\n",
    "    >>> b = np.random.random(50000)"
   ]
  },
  {
   "cell_type": "code",
   "execution_count": 16,
   "metadata": {
    "collapsed": false
   },
   "outputs": [],
   "source": [
    "A = sp.sparse.csr_matrix(diag_dom(50000))\n",
    "b = np.random.random(50000)"
   ]
  },
  {
   "cell_type": "code",
   "execution_count": 21,
   "metadata": {
    "collapsed": true
   },
   "outputs": [],
   "source": [
    "N = 10\n",
    "eps = 1e-8"
   ]
  },
  {
   "cell_type": "code",
   "execution_count": 22,
   "metadata": {
    "collapsed": false
   },
   "outputs": [],
   "source": [
    "x_0 = np.zeros(len(b))\n",
    "\n",
    "for i in range(N):\n",
    "    x_1 = np.copy(x_0)\n",
    "    for j in range(len(x_1)):\n",
    "        rowstart = A.indptr[j]\n",
    "        rowend = A.indptr[j+1]\n",
    "        x_1[j] = x_0[j] + (b[j] - np.dot(A.data[rowstart:rowend], x_0[A.indices[rowstart:rowend]]))/A[j,j]\n",
    "        diff = la.norm(x_1 - x_0)\n",
    "        if diff<eps:\n",
    "            sol = x_1\n",
    "        x_0 = x_1\n",
    "    sol_ = x_1"
   ]
  }
 ],
 "metadata": {
  "kernelspec": {
   "display_name": "Python [conda env:impact]",
   "language": "python",
   "name": "conda-env-impact-py"
  },
  "language_info": {
   "codemirror_mode": {
    "name": "ipython",
    "version": 3
   },
   "file_extension": ".py",
   "mimetype": "text/x-python",
   "name": "python",
   "nbconvert_exporter": "python",
   "pygments_lexer": "ipython3",
   "version": "3.6.0"
  }
 },
 "nbformat": 4,
 "nbformat_minor": 1
}
