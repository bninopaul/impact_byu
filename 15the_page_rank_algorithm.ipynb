{
 "cells": [
  {
   "cell_type": "code",
   "execution_count": 1,
   "metadata": {
    "collapsed": true
   },
   "outputs": [],
   "source": [
    "import numpy as np\n",
    "import scipy as sp\n",
    "from scipy import stats\n",
    "import pandas as pd\n",
    "import sympy as sy\n",
    "import scipy.linalg as la \n",
    "import scipy.sparse.linalg as spla\n",
    "import time \n",
    "import matplotlib.pyplot as plt\n",
    "import cmath\n",
    "from utils import helper\n",
    "sy.init_printing()\n",
    "%matplotlib inline"
   ]
  },
  {
   "cell_type": "markdown",
   "metadata": {
    "collapsed": true
   },
   "source": [
    "### Page Rank Algorithm"
   ]
  },
  {
   "cell_type": "markdown",
   "metadata": {},
   "source": [
    "### Problem 1. \n",
    "Write the following function that creates a adjacency matrix from a file.\n",
    "\n",
    "    def to_matrix( filename, n ):\n",
    "        ''' \n",
    "        Return the nxn adjacency matrix described by the file.\n",
    "        INPUTS:\n",
    "            filename - Name of a .txt file describing a directed graph. Lines\n",
    "                      describing edges should have the form '<from node>\\t<to node>'.\n",
    "                      The file may also include comments.\n",
    "            n   - The number of nodes in the graph described by datafile\n",
    "        RETURN:\n",
    "        Return a NumPy array. \n",
    "        '''\n",
    "Hints:\n",
    "\n",
    "1. The file matrix.txt included with this lab describes the matrix in Figure 15.1 and has the adjacency matrix A given above. You may use it to test your function.\n",
    "\n",
    "2. You can open a file in Python using the with syntax. Then, you can iterate through the lines using a for loop. Here is an example.\n",
    "\n",
    "        ￼￼# Open `matrix.txt` for read-only\n",
    "        with open('./matrix.txt', 'r') as myfile:\n",
    "            for line in myfi:\n",
    "                print(line)\n",
    "\n",
    "3. Here is an example of how to process a line of the form in datafile.\n",
    "\n",
    "        ￼￼>>> line = '0\\t4\\n'\n",
    "        # strip() removes trailing whitespace from a line.\n",
    "        # split() returns a list of the space-separated pieces of the line. \n",
    "        >>> line.strip().split()\n",
    "        ['0', '4']\n",
    "        \n",
    "4. Rather than testing for lines of matrix.txt that contain comments, put all your string operations in a `try` block with an `except` block following."
   ]
  },
  {
   "cell_type": "code",
   "execution_count": 19,
   "metadata": {
    "collapsed": true
   },
   "outputs": [],
   "source": [
    "def to_matrix( filename, n ):\n",
    "    ''' \n",
    "    Return the nxn adjacency matrix described by the file.\n",
    "    INPUTS:\n",
    "        filename - Name of a .txt file describing a directed graph. Lines\n",
    "                  describing edges should have the form '<from node>\\t<to node>'.\n",
    "                  The file may also include comments.\n",
    "        n   - The number of nodes in the graph described by datafile\n",
    "    RETURN:\n",
    "    Return a NumPy array. \n",
    "    '''\n",
    "    #TODO: make adj_mat a sparse matrix type\n",
    "    data = pd.read_csv(filename, sep = \"\\t\").values\n",
    "    adj_mat = np.zeros((n,n))\n",
    "    adj_mat[data[:,0], data[:,1]] = 1\n",
    "    return adj_mat"
   ]
  },
  {
   "cell_type": "code",
   "execution_count": 60,
   "metadata": {
    "collapsed": false
   },
   "outputs": [
    {
     "data": {
      "text/plain": [
       "array([[ 0.,  0.,  0.,  0.,  0.,  0.,  0.,  1.],\n",
       "       [ 1.,  0.,  0.,  0.,  0.,  0.,  0.,  0.],\n",
       "       [ 0.,  0.,  0.,  0.,  0.,  0.,  0.,  0.],\n",
       "       [ 1.,  0.,  1.,  0.,  0.,  0.,  1.,  0.],\n",
       "       [ 1.,  0.,  0.,  0.,  0.,  1.,  1.,  0.],\n",
       "       [ 1.,  0.,  0.,  0.,  0.,  0.,  1.,  0.],\n",
       "       [ 1.,  0.,  0.,  0.,  0.,  0.,  0.,  0.],\n",
       "       [ 1.,  0.,  0.,  0.,  0.,  0.,  0.,  0.]])"
      ]
     },
     "execution_count": 60,
     "metadata": {},
     "output_type": "execute_result"
    }
   ],
   "source": [
    "filename = \"../Data/Volume1/matrix.txt\"\n",
    "n = 8\n",
    "\n",
    "Am = to_matrix(filename, n)\n",
    "Am"
   ]
  },
  {
   "cell_type": "code",
   "execution_count": 61,
   "metadata": {
    "collapsed": false
   },
   "outputs": [
    {
     "data": {
      "text/plain": [
       "array([[ 0.,  0.,  0.,  0.,  0.,  0.,  0.,  1.],\n",
       "       [ 1.,  0.,  0.,  0.,  0.,  0.,  0.,  0.],\n",
       "       [ 1.,  1.,  1.,  1.,  1.,  1.,  1.,  1.],\n",
       "       [ 1.,  0.,  1.,  0.,  0.,  0.,  1.,  0.],\n",
       "       [ 1.,  0.,  0.,  0.,  0.,  1.,  1.,  0.],\n",
       "       [ 1.,  0.,  0.,  0.,  0.,  0.,  1.,  0.],\n",
       "       [ 1.,  0.,  0.,  0.,  0.,  0.,  0.,  0.],\n",
       "       [ 1.,  0.,  0.,  0.,  0.,  0.,  0.,  0.]])"
      ]
     },
     "execution_count": 61,
     "metadata": {},
     "output_type": "execute_result"
    }
   ],
   "source": [
    "#modify the adjacency matrix for sink pages\n",
    "sink_index = np.where(np.sum(Am, axis =1)==0)[0]\n",
    "\n",
    "Am[sink_index] = np.ones(len(Am))\n",
    "Am"
   ]
  },
  {
   "cell_type": "code",
   "execution_count": 62,
   "metadata": {
    "collapsed": false
   },
   "outputs": [],
   "source": [
    "#calculate K\n",
    "D_inv = np.diag(np.sum(Am, axis=1)**-1)\n",
    "K = np.dot(D_inv, Am).T"
   ]
  },
  {
   "cell_type": "markdown",
   "metadata": {},
   "source": [
    "### Problem 2. \n",
    "\n",
    "Write a function that computes the K matrix given an adjacency matrix.\n",
    "\n",
    "1. Compute the diagonal matrix $D$.\n",
    "2. Compute the modified adjacency matrix where the rows corresponding to sinks all have ones instead of zeros. \n",
    "3. Compute $K$ using array broadcasting."
   ]
  },
  {
   "cell_type": "code",
   "execution_count": 63,
   "metadata": {
    "collapsed": true
   },
   "outputs": [],
   "source": [
    "def make_K(adj_mat):\n",
    "    sink_index = np.where(np.sum(adj_mat, axis =1)==0)[0]\n",
    "\n",
    "    adj_mat[sink_index] = np.ones(len(adj_mat))\n",
    "    D_inv = np.diag(np.sum(adj_mat, axis=1)**-1)\n",
    "    K = np.dot(D_inv, adj_mat).T\n",
    "    return K"
   ]
  },
  {
   "cell_type": "code",
   "execution_count": 65,
   "metadata": {
    "collapsed": false
   },
   "outputs": [
    {
     "data": {
      "text/plain": [
       "array([ 0.43869288,  0.02171029,  0.02786154,  0.02171029,  0.02171029,\n",
       "        0.02786154,  0.04585394,  0.39459924])"
      ]
     },
     "execution_count": 65,
     "metadata": {},
     "output_type": "execute_result"
    }
   ],
   "source": [
    "I = np.eye(n)\n",
    "d = 0.85\n",
    "la.solve(I-d*K, ((1-d)/8)*np.ones(n))"
   ]
  },
  {
   "cell_type": "markdown",
   "metadata": {},
   "source": [
    "### Problem 3. \n",
    "\n",
    "Implement the function below, using the iterative method to find the steady state of the PageRank algorithm. When the argument `N` is not None, work with only the upper $N \\times N$ portion of the array `adj`. Test your function against the example in the lab.\n",
    "\n",
    "\n",
    "    def iter_solve( adj, N=None, d=.85, tol=1E-5): \n",
    "        '''\n",
    "        Return the page ranks of the network described by 'adj' using the iterative method.\n",
    "        INPUTS:\n",
    "            adj - A NumPy array representing the adjacency matrix of a directed graph\n",
    "            N - Restrict the computation to the first `N` nodes of the graph.\n",
    "                    Defaults to N=None; in this case, the entire matrix is used.\n",
    "            d     - The damping factor, a float between 0 and 1.\n",
    "                    Defaults to .85.\n",
    "            tol  - Stop iterating when the change in approximations to the\n",
    "                   solution is less than 'tol'. Defaults to 1E-5.\n",
    "        OUTPUTS:\n",
    "            Return the approximation to the steady state of p.\n",
    "        '''\n",
    "Hints:\n",
    "\n",
    "1. Try making your initial guess for $p(0)$ a random vector.\n",
    "2. NumPy can do unexpected things with the dimensions when performing matrix-vector multiplication. When debugging, check at each iteration that all arrays have the dimensions you expect."
   ]
  },
  {
   "cell_type": "code",
   "execution_count": null,
   "metadata": {
    "collapsed": true
   },
   "outputs": [],
   "source": []
  }
 ],
 "metadata": {
  "kernelspec": {
   "display_name": "Python [conda env:impact]",
   "language": "python",
   "name": "conda-env-impact-py"
  },
  "language_info": {
   "codemirror_mode": {
    "name": "ipython",
    "version": 3
   },
   "file_extension": ".py",
   "mimetype": "text/x-python",
   "name": "python",
   "nbconvert_exporter": "python",
   "pygments_lexer": "ipython3",
   "version": "3.6.0"
  }
 },
 "nbformat": 4,
 "nbformat_minor": 1
}
