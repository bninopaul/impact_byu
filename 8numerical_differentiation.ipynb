{
 "cells": [
  {
   "cell_type": "code",
   "execution_count": 1,
   "metadata": {
    "collapsed": true
   },
   "outputs": [],
   "source": [
    "import numpy as np\n",
    "import scipy as sp\n",
    "import scipy.linalg as la \n",
    "import scipy.sparse.linalg as spla\n",
    "import time \n",
    "import matplotlib.pyplot as plt\n",
    "import cmath\n",
    "from utils import helper\n",
    "%matplotlib inline"
   ]
  },
  {
   "cell_type": "markdown",
   "metadata": {},
   "source": [
    "### Problem 1\n",
    "Write a function that accepts as input a callable function object `f`, an array of points `pts`, and a keyword argument `h` that defaults to `1e-5`. Return an array of the $centered$ $difference$ $quotients$ of `f` at each point in `pts` with the specified value of `h`."
   ]
  },
  {
   "cell_type": "code",
   "execution_count": 2,
   "metadata": {
    "collapsed": true
   },
   "outputs": [],
   "source": [
    "def deriv(f, pts, h=1e-5):\n",
    "    return 0.5*(f(pts+h)-f(pts-h))/h"
   ]
  },
  {
   "cell_type": "markdown",
   "metadata": {},
   "source": [
    "### Problem 2.\n",
    "\n",
    "Write a function that accepts as input a callable function object `f`, the derivative `df` of the function `f`, an array of points `pts`, and a keyword argument `h` that defaults to `1e-5`. Return an array of the errors for the centered difference quotients at each point in `pts` with the specified value of `h`."
   ]
  },
  {
   "cell_type": "code",
   "execution_count": 3,
   "metadata": {
    "collapsed": true
   },
   "outputs": [],
   "source": [
    "def error_diff(f, df, pts, h=1e-5):\n",
    "    deriv_est = deriv(f, pts, h)\n",
    "    deriv_tru = df(pts)\n",
    "    return deriv_est - deriv_tru"
   ]
  },
  {
   "cell_type": "markdown",
   "metadata": {},
   "source": [
    "### Problem 3. \n",
    "Use the centered difference quotient to approximate the derivative of $f(x)=(sin(x)+1)^x$ at $x = \\frac{\\pi}{3}$, $\\frac{\\pi}{4}$,and $\\frac{\\pi}{6}$. Calculate the error of the approximations."
   ]
  },
  {
   "cell_type": "code",
   "execution_count": 4,
   "metadata": {
    "collapsed": false
   },
   "outputs": [],
   "source": [
    "f = lambda x: (np.sin(x)+1)**x\n",
    "df = lambda x: ((np.sin(x)+1)**x)*(((x*np.cos(x))/(np.sin(x)+1)) + np.log(np.sin(x)+1))\n",
    "pts = np.pi*(np.array([3,4,6])**-1.)"
   ]
  },
  {
   "cell_type": "code",
   "execution_count": 5,
   "metadata": {
    "collapsed": false
   },
   "outputs": [
    {
     "data": {
      "text/plain": [
       "array([ -1.48328017e-11,  -1.39710465e-12,  -4.95758989e-12])"
      ]
     },
     "execution_count": 5,
     "metadata": {},
     "output_type": "execute_result"
    }
   ],
   "source": [
    "#errors\n",
    "error_diff(f, df, pts)"
   ]
  },
  {
   "cell_type": "code",
   "execution_count": 6,
   "metadata": {
    "collapsed": false
   },
   "outputs": [
    {
     "data": {
      "text/plain": [
       "array([ 1.73807235,  1.30911398,  0.87516563])"
      ]
     },
     "execution_count": 6,
     "metadata": {},
     "output_type": "execute_result"
    }
   ],
   "source": [
    "#center difference quotients\n",
    "deriv(f, pts)"
   ]
  },
  {
   "cell_type": "code",
   "execution_count": 7,
   "metadata": {
    "collapsed": false
   },
   "outputs": [
    {
     "data": {
      "text/plain": [
       "array([ 1.73807235,  1.30911398,  0.87516563])"
      ]
     },
     "execution_count": 7,
     "metadata": {},
     "output_type": "execute_result"
    }
   ],
   "source": [
    "# true derivatives\n",
    "df(pts)"
   ]
  },
  {
   "cell_type": "markdown",
   "metadata": {},
   "source": [
    "### Problem 4. \n",
    "The radar stations $A$ and $B$, separated by the distance `a = 500 m`, track the plane $C$ by recording the angles $\\alpha$ and $\\beta$ at one-second intervals (See figure 8.1). Three successive readings are given in table 8.2. Use centered difference quotients to calculate the speed `v` of the plane at `t = 10 s`. The coordinates of the plane can be shown to be:\n",
    "\n",
    "$$x = a\\frac{tan(\\beta)}{tan(\\beta)-tan(\\alpha)}$$\n",
    "\n",
    "$$y = a\\frac{tan(\\beta)tan(\\alpha)}{tan(\\beta)- tan(\\alpha)}$$\n",
    "\n",
    "(Kiusalaas, Jaan. Numerical Methods in Engineering with Python 3)"
   ]
  },
  {
   "cell_type": "code",
   "execution_count": 8,
   "metadata": {
    "collapsed": true
   },
   "outputs": [],
   "source": [
    "a = 500\n",
    "t = np.array([9,10,11])\n",
    "alpha = np.deg2rad(np.array([54.80, 54.06, 53.34]))\n",
    "beta = np.deg2rad(np.array([65.59, 64.59, 63.62]))"
   ]
  },
  {
   "cell_type": "code",
   "execution_count": 9,
   "metadata": {
    "collapsed": false
   },
   "outputs": [],
   "source": [
    "x = lambda alpha_,beta_: a*np.tan(beta_)/(np.tan(beta_) - np.tan(alpha_))\n",
    "y = lambda alpha_,beta_: a*np.tan(beta_)*np.tan(alpha_)/(np.tan(beta_) - np.tan(alpha_))"
   ]
  },
  {
   "cell_type": "code",
   "execution_count": 10,
   "metadata": {
    "collapsed": false
   },
   "outputs": [
    {
     "name": "stdout",
     "output_type": "stream",
     "text": [
      "X positions: [ 1401.91839832  1450.49700629  1498.64035029]\n",
      "Y positions: [ 1987.34601606  2000.84071299  2013.51241079]\n"
     ]
    }
   ],
   "source": [
    "x_pos = x(alpha, beta)\n",
    "y_pos = y(alpha, beta)\n",
    "print(\"X positions:\", x_pos)\n",
    "print(\"Y positions:\", y_pos)"
   ]
  },
  {
   "cell_type": "code",
   "execution_count": 11,
   "metadata": {
    "collapsed": false
   },
   "outputs": [
    {
     "data": {
      "text/plain": [
       "array([ 2432.06072768,  2471.29624368,  2510.01098164])"
      ]
     },
     "execution_count": 11,
     "metadata": {},
     "output_type": "execute_result"
    }
   ],
   "source": [
    "distances = np.linalg.norm(np.vstack((x_pos, y_pos)), axis=0)\n",
    "distances"
   ]
  },
  {
   "cell_type": "code",
   "execution_count": 12,
   "metadata": {
    "collapsed": false
   },
   "outputs": [
    {
     "data": {
      "text/plain": [
       "38.975126980795949"
      ]
     },
     "execution_count": 12,
     "metadata": {},
     "output_type": "execute_result"
    }
   ],
   "source": [
    "#centered difference quotient\n",
    "#h=1, x=10\n",
    "#==> 0.5*(f(10+1) - f(10-1))/1\n",
    "0.5*(distances[2]-distances[0])"
   ]
  },
  {
   "cell_type": "markdown",
   "metadata": {},
   "source": [
    "### Problem 5.\n",
    "\n",
    "Write a function that accepts \n",
    "1. a function handle f,\n",
    "2. an integer `n` that is the dimension of the domain of `f`,\n",
    "3. an integer `m` that is the dimension of the range of `f`,\n",
    "4. an 1 x `n`-dimensional NumPy array `pt` representing a point in $R^n$, and\n",
    "5. a keyword argument h that defaults to `1e-5`.\n",
    "\n",
    "Return the approximate Jacobian matrix of f at `pt` using the centered difference quotient."
   ]
  },
  {
   "cell_type": "code",
   "execution_count": 13,
   "metadata": {
    "collapsed": true
   },
   "outputs": [],
   "source": [
    "def jacobian(f, n, m, pt, h=1e-5):\n",
    "    sbasis = np.eye(n)\n",
    "    jacob = []\n",
    "    for i in range(n):\n",
    "        jacob.append(0.5*(f(pt+h*sbasis[i])-f(pt-h*sbasis[i]))/h)\n",
    "    return np.array(jacob).T"
   ]
  },
  {
   "cell_type": "code",
   "execution_count": 14,
   "metadata": {
    "collapsed": true
   },
   "outputs": [],
   "source": [
    "f = lambda x: np.array([x[0]**(1/3) ,x[0]**2, x[0]+x[1]])\n",
    "pt = np.array([1,2])\n",
    "m = 3\n",
    "n = 2"
   ]
  },
  {
   "cell_type": "code",
   "execution_count": 15,
   "metadata": {
    "collapsed": false
   },
   "outputs": [
    {
     "data": {
      "text/plain": [
       "array([[ 0.33333333,  0.        ],\n",
       "       [ 2.        ,  0.        ],\n",
       "       [ 1.        ,  1.        ]])"
      ]
     },
     "execution_count": 15,
     "metadata": {},
     "output_type": "execute_result"
    }
   ],
   "source": [
    "jacobian(f, n, m, pt)"
   ]
  },
  {
   "cell_type": "markdown",
   "metadata": {},
   "source": [
    "### Problem 6.\n",
    "\n",
    "Let  $f : \\mathbb{R}^2 \\Rightarrow \\mathbb{R}^2$ be defined by\n",
    "\n",
    "$$f(x,y) = \\begin{bmatrix}\n",
    "            e^xsin(y)+y^3 \\\\\n",
    "            3y-cos(x)\n",
    "           \\end{bmatrix}$$\n",
    "           \n",
    "Find the error between your Jacobian function and the analytically computed derivative on the square $[-1, 1]$ $\\times$ $[-1, 1]$ using ten thousand grid points (100 per side). You may apply your Jacobian function to the points one at a time using a double for loop. Once you get the error matrix for a given point, calculate the Frobenius norm of this matrix (`la.norm` defaults to the Frobenius norm). This norm will be your total error for that point. What is the maximum error of your Jacobian function over all points in the square?"
   ]
  },
  {
   "cell_type": "code",
   "execution_count": 16,
   "metadata": {
    "collapsed": true
   },
   "outputs": [],
   "source": [
    "f = lambda x: np.array([np.exp(x[0])*np.sin(x[1]) +x[1]**3, 3*x[1] - np.cos(x[0])])\n",
    "#analytical computed derivative\n",
    "df = lambda x: np.array([[np.exp(x[0])*np.sin(x[1]), np.exp(x[0])*np.cos(x[1])+3*x[1]**2],\n",
    "                           [np.sin(x[0]), 3]])"
   ]
  },
  {
   "cell_type": "code",
   "execution_count": 17,
   "metadata": {
    "collapsed": false
   },
   "outputs": [],
   "source": [
    "errors = []\n",
    "for x in np.linspace(-1,1,100):\n",
    "    for y in np.linspace(-1,1,100):\n",
    "        pt = np.array([x,y])\n",
    "        jacob_analytical = df(pt)\n",
    "        jacob_numerderiv = jacobian(f, 2,2,pt)\n",
    "        errors.append(la.norm(jacob_analytical-jacob_numerderiv))"
   ]
  },
  {
   "cell_type": "code",
   "execution_count": 18,
   "metadata": {
    "collapsed": false
   },
   "outputs": [
    {
     "data": {
      "text/plain": [
       "<matplotlib.image.AxesImage at 0x11735b828>"
      ]
     },
     "execution_count": 18,
     "metadata": {},
     "output_type": "execute_result"
    },
    {
     "data": {
      "image/png": "[encoded data removed]",
      "text/plain": [
       "<matplotlib.figure.Figure at 0x113fac9e8>"
      ]
     },
     "metadata": {},
     "output_type": "display_data"
    }
   ],
   "source": [
    "plt.figure(figsize=(5,5))\n",
    "plt.imshow(np.array(errors).reshape((100,100)), cmap = \"gray\")"
   ]
  },
  {
   "cell_type": "code",
   "execution_count": 19,
   "metadata": {
    "collapsed": false
   },
   "outputs": [
    {
     "data": {
      "text/plain": [
       "1.2018346519324208e-10"
      ]
     },
     "execution_count": 19,
     "metadata": {},
     "output_type": "execute_result"
    }
   ],
   "source": [
    "np.max(errors)"
   ]
  },
  {
   "cell_type": "code",
   "execution_count": 20,
   "metadata": {
    "collapsed": false
   },
   "outputs": [
    {
     "data": {
      "text/plain": [
       "8.1800318519560781e-07"
      ]
     },
     "execution_count": 20,
     "metadata": {},
     "output_type": "execute_result"
    }
   ],
   "source": [
    "np.sum(errors)"
   ]
  }
 ],
 "metadata": {
  "anaconda-cloud": {},
  "kernelspec": {
   "display_name": "Python [conda env:impact]",
   "language": "python",
   "name": "conda-env-impact-py"
  },
  "language_info": {
   "codemirror_mode": {
    "name": "ipython",
    "version": 3
   },
   "file_extension": ".py",
   "mimetype": "text/x-python",
   "name": "python",
   "nbconvert_exporter": "python",
   "pygments_lexer": "ipython3",
   "version": "3.6.0"
  }
 },
 "nbformat": 4,
 "nbformat_minor": 1
}
