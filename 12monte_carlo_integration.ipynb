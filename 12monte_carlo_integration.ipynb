{
 "cells": [
  {
   "cell_type": "code",
   "execution_count": null,
   "metadata": {
    "collapsed": true
   },
   "outputs": [],
   "source": [
    "import numpy as np\n",
    "import scipy as sp\n",
    "from scipy import stats\n",
    "import pandas as pd\n",
    "import sympy as sy\n",
    "import scipy.linalg as la \n",
    "import scipy.sparse.linalg as spla\n",
    "import time \n",
    "import matplotlib.pyplot as plt\n",
    "import cmath\n",
    "from utils import helper\n",
    "sy.init_printing()\n",
    "%matplotlib inline"
   ]
  },
  {
   "cell_type": "markdown",
   "metadata": {},
   "source": [
    "#### Area of Circle"
   ]
  },
  {
   "cell_type": "code",
   "execution_count": null,
   "metadata": {
    "collapsed": false
   },
   "outputs": [],
   "source": [
    "N = 500 #number of sample points\n",
    "points = np.random.rand(2,N)"
   ]
  },
  {
   "cell_type": "code",
   "execution_count": null,
   "metadata": {
    "collapsed": true
   },
   "outputs": [],
   "source": [
    "#rescale so that the range falls between [-1,1] x [-1,1]\n",
    "points = points*2-1"
   ]
  },
  {
   "cell_type": "code",
   "execution_count": null,
   "metadata": {
    "collapsed": false
   },
   "outputs": [],
   "source": [
    "#compute for the euclidean distance\n",
    "pointsDistances = np.linalg.norm(points, axis=0)\n",
    "#count how many are less than 1\n",
    "numInCircle = np.count_nonzero(pointsDistances<1)\n",
    "\n",
    "#area of circle\n",
    "circleArea = 4.*(numInCircle/N)\n",
    "circleArea"
   ]
  },
  {
   "cell_type": "code",
   "execution_count": null,
   "metadata": {
    "collapsed": false
   },
   "outputs": [],
   "source": [
    "#error diff\n",
    "np.pi - circleArea"
   ]
  },
  {
   "cell_type": "markdown",
   "metadata": {},
   "source": [
    "### Problem 1. \n",
    "Write a function that estimates the volume of the unit sphere. Your function should have a keyword argument `N` that defaults to $10^5$. Your function should draw $N$ points uniformly from $[-1, 1] \\times [-1, 1] \\times [-1, 1]$ to\n",
    "make your estimate. The true volume is $\\frac{4}{3}\\pi \\approx 4.189$."
   ]
  },
  {
   "cell_type": "code",
   "execution_count": null,
   "metadata": {
    "collapsed": true
   },
   "outputs": [],
   "source": [
    "def est_volsphere(N = int(1e5)):\n",
    "    points = np.random.rand(3,N)\n",
    "    points = points*2 -1 #rescale it \n",
    "    distance = la.norm(points, axis=0)\n",
    "    counts = np.sum(distance<=1)\n",
    "    return (2**3)*counts/N"
   ]
  },
  {
   "cell_type": "code",
   "execution_count": null,
   "metadata": {
    "collapsed": false
   },
   "outputs": [],
   "source": [
    "est_vol = est_volsphere()\n",
    "print(\"Estimate %f | True Value %f:\"%(est_vol, (4*np.pi/3)))\n",
    "print(\"Error:\", (4*np.pi/3) -est_vol)"
   ]
  },
  {
   "cell_type": "markdown",
   "metadata": {},
   "source": [
    "### Problem 2.\n",
    "Write a function that performs 1-dimensional Monte Carlo integration. Given a function $f : \\mathbb{R} \\mapsto \\mathbb{R}$, an interval $[a, b]$, and the number of random points to use, your function should return an approximation of the integral $\\int^{b}_{a} f(x) dx$. Let the number of sample points default to $10^5$. Test your function by estimating integrals that you can calculate by hand"
   ]
  },
  {
   "cell_type": "code",
   "execution_count": null,
   "metadata": {
    "collapsed": true
   },
   "outputs": [],
   "source": [
    "def onedim_montecarlo(f, interval, N=int(1e5)):\n",
    "    length = np.abs(np.diff(interval)) #volume since 1d\n",
    "    points = np.random.uniform(interval[0], interval[1], size = N)\n",
    "    mean_image = np.mean(f(points))\n",
    "    return mean_image*length\n",
    "    "
   ]
  },
  {
   "cell_type": "code",
   "execution_count": null,
   "metadata": {
    "collapsed": true
   },
   "outputs": [],
   "source": [
    "f = lambda x: x**(2/3)\n",
    "interval = [1,4]"
   ]
  },
  {
   "cell_type": "code",
   "execution_count": null,
   "metadata": {
    "collapsed": false
   },
   "outputs": [],
   "source": [
    "onedim_montecarlo(f, interval)"
   ]
  },
  {
   "cell_type": "code",
   "execution_count": null,
   "metadata": {
    "collapsed": false
   },
   "outputs": [],
   "source": [
    "x = sy.symbols(\"x\")\n",
    "expr = x**(2/3)\n",
    "sy.integrate(expr, (x,1,4)).evalf()"
   ]
  },
  {
   "cell_type": "markdown",
   "metadata": {},
   "source": [
    "### Problem 3. \n",
    "\n",
    "Generalize Problem 2 to multiple dimensions. Write a function that accepts a function handle $f$ to integrate, the bounds of the interval to integrate over, and the number of points to use. Let the number of sample points default to $10^5$. Your implementation should be robust enough to integrate any function $f: \\mathbb{R}^n \\mapsto \\mathbb{R}$ over any interval in $\\mathbb{R}^n$."
   ]
  },
  {
   "cell_type": "code",
   "execution_count": null,
   "metadata": {
    "collapsed": true
   },
   "outputs": [],
   "source": [
    "def gen_montecarlo(f, interval, N=int(1e5)):\n",
    "    #interval should be of shape (n,2) where n is the dimension of domain of f\n",
    "    \n",
    "    points = np.random.rand(len(interval), N)\n",
    "    points = points*np.diff(interval, axis=1) + np.min(interval, axis=1, keepdims=True) #rescale\n",
    "    range_ = np.apply_along_axis(f, 0, points)\n",
    "    mean_ = np.mean(range_)\n",
    "    return mean_*np.product(np.abs(np.diff(interval, axis=1)))"
   ]
  },
  {
   "cell_type": "markdown",
   "metadata": {},
   "source": [
    "### Problem 4. \n",
    "The joint normal distribution of N independent random variables with mean 0 and variance 1 is\n",
    "$$f(x) = \\frac{1}{\\sqrt{2\\pi}^N}e^{-\\frac{x^Tx}{2}}$$\n",
    "\n",
    "The integral of $f(x)$ over a box is the probability that a draw from the distribution will be in the box. This is an important distribution in statistics. However, $f(x)$ does not have a symbolic antiderivative.\n",
    "\n",
    "1. Let $\\Omega = [-1.5,0.75]\\times[0,1]\\times[0,0.5]\\times[0,1] \\subset \\mathbb{R}^4$. Use the function you wrote in Problem 1 to integrate $f(x)$ on $\\Omega$. Use 50000 sample points.\n",
    "\n",
    "2. SciPy has a built in function specifically for integrating the joint normal distribution. The integral of $f(x)$ on $B = [-1,1]\\times[-1,1]\\times[-1,1] \\subset \\mathbb{R}^3$ can be computed in SciPy with the following code.\n",
    "\n",
    "￼\n",
    "        >>> from scipy import stats\n",
    "        # Define the bounds of the box to integrate over\n",
    "        >>> mins = np.array([-1, -1, -1])\n",
    "        >>> maxs = np.array([1, 1, 1])\n",
    "        # Each variable has mean 0\n",
    "        >>> means = np.zeros(3)\n",
    "        # The covariance matrix of N independent random variables\n",
    "        #    is the NxN identity matrix.\n",
    "        >>> covs = np.eye(3)\n",
    "        # Compute the integral\n",
    "        >>> value, inform = stats.mvn.mvnun(mins, maxs, means, covs)\n",
    "\n",
    "    \n",
    "Then `value` is the integral of $f(x)$ on $B$.\n",
    "Use SciPy to integrate $f(x)$ on $\\Omega$.\n",
    "\n",
    "3. Return your Monte Carlo estimate, SciPy’s answer, and (assuming SciPy is correct) the relative error of your Monte Carlo estimate."
   ]
  },
  {
   "cell_type": "code",
   "execution_count": null,
   "metadata": {
    "collapsed": true
   },
   "outputs": [],
   "source": [
    "f = lambda x: np.exp(-np.dot(x,x)/2)/(np.sqrt(2*np.pi)**len(x))"
   ]
  },
  {
   "cell_type": "code",
   "execution_count": null,
   "metadata": {
    "collapsed": true
   },
   "outputs": [],
   "source": [
    "omega = np.array([[-1.5, 0.75],\n",
    "                  [0,1],\n",
    "                  [0,0.5],\n",
    "                  [0,1]])"
   ]
  },
  {
   "cell_type": "code",
   "execution_count": null,
   "metadata": {
    "collapsed": false
   },
   "outputs": [],
   "source": [
    "value_est = gen_montecarlo(f, omega, N=50000)\n",
    "value_est"
   ]
  },
  {
   "cell_type": "code",
   "execution_count": null,
   "metadata": {
    "collapsed": false
   },
   "outputs": [],
   "source": [
    "#using scipy \n",
    "mins = np.array([-1.5, 0, 0, 0])\n",
    "maxs = np.array([0.75, 1, 0.5, 1])\n",
    "\n",
    "means = np.zeros(4)\n",
    "covs = np.eye(4)\n",
    "value, inform = stats.mvn.mvnun(mins, maxs, means, covs)\n",
    "value"
   ]
  },
  {
   "cell_type": "code",
   "execution_count": null,
   "metadata": {
    "collapsed": false
   },
   "outputs": [],
   "source": [
    "value_est - value"
   ]
  },
  {
   "cell_type": "markdown",
   "metadata": {},
   "source": [
    "### Problem 5. \n",
    "In this problem we will visualize how the error in Monte Carlo integration depends on the number of sample points.\n",
    "\n",
    "Run Problem 1 with N equal to 50, 100 and 500, as well as 1000, 2000, 3000, ..., 50000; having some additional small values of N will help make the visualization better.\n",
    "\n",
    "For each value of N:\n",
    "\n",
    "    1. Estimate the volume of the unit sphere using Problem 1, and use the true volume to calculate the relative error of the estimate.\n",
    "    2. Repeat this multiple times to get an average estimate of the relative error. Your function should accept a keyword argument numEstimates that defaults to 50.\n",
    "    3. Calculate and store the mean of the errors.\n",
    "    Plot the mean relative error as a function of N. For comparison, plot the function 1/pN on the same graph. Your plot should resemble Figure 12.2)"
   ]
  },
  {
   "cell_type": "code",
   "execution_count": null,
   "metadata": {
    "collapsed": true
   },
   "outputs": [],
   "source": [
    "Ns = np.append(np.array([50, 100, 500]), np.arange(1,51)*1000)\n",
    "numEstimates = 50"
   ]
  },
  {
   "cell_type": "code",
   "execution_count": null,
   "metadata": {
    "collapsed": true
   },
   "outputs": [],
   "source": [
    "def relative_error_volsphere(Ns, numEstimates):\n",
    "    true_vol = (4*np.pi/3)\n",
    "    errors_N = []\n",
    "    for N in Ns:\n",
    "        errors = []\n",
    "        for i in range(numEstimates):\n",
    "            vol = est_volsphere(N=N)\n",
    "            errors.append(np.abs(vol-true_vol)/true_vol)\n",
    "        errors_N.append(np.mean(errors))\n",
    "        \n",
    "    plt.figure(figsize=(10, 8))\n",
    "    plt.plot(Ns, errors_N)\n",
    "    plt.plot(Ns, 1/np.sqrt(Ns), 'r--')"
   ]
  },
  {
   "cell_type": "code",
   "execution_count": null,
   "metadata": {
    "collapsed": false
   },
   "outputs": [],
   "source": [
    "relative_error_volsphere(Ns, numEstimates)"
   ]
  },
  {
   "cell_type": "code",
   "execution_count": null,
   "metadata": {
    "collapsed": true
   },
   "outputs": [],
   "source": []
  }
 ],
 "metadata": {
  "kernelspec": {
   "display_name": "Python [conda env:impact]",
   "language": "python",
   "name": "conda-env-impact-py"
  },
  "language_info": {
   "codemirror_mode": {
    "name": "ipython",
    "version": 3
   },
   "file_extension": ".py",
   "mimetype": "text/x-python",
   "name": "python",
   "nbconvert_exporter": "python",
   "pygments_lexer": "ipython3",
   "version": "3.6.0"
  }
 },
 "nbformat": 4,
 "nbformat_minor": 1
}
