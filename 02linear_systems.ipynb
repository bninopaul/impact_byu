{
 "cells": [
  {
   "cell_type": "code",
   "execution_count": 1,
   "metadata": {
    "collapsed": false
   },
   "outputs": [],
   "source": [
    "import numpy as np\n",
    "import scipy as sp\n",
    "import scipy.linalg as la \n",
    "import scipy.sparse.linalg as spla\n",
    "import time \n",
    "import matplotlib.pyplot as plt\n",
    "\n",
    "%matplotlib inline"
   ]
  },
  {
   "cell_type": "markdown",
   "metadata": {},
   "source": [
    "### Gaussian Elimination Operations:\n",
    "\n",
    "1. Swap two rows\n",
    "2. Multiply one row by a scalar value\n",
    "3. Add a scalar multiple of one row to another\n",
    "\n",
    "### Elementary Matrices Operations:\n",
    "\n",
    "1. Permutation Matrix\n",
    "2. Scaling Matrix\n",
    "3. Row Combination Matrix"
   ]
  },
  {
   "cell_type": "markdown",
   "metadata": {},
   "source": [
    "### Problem 1.\n",
    "Write a function which reduces a square matrix A to REF. You may assume that A is invertible and that a 0\n",
    "will never appear on the main diagonal (so only use type III row reductions, not type II). Avoid operating on entries that you know will be 0 before and after a row operation. Consider generating small random matrices as test cases with NumPy’s random module (np.random.randint() may be particularly useful)."
   ]
  },
  {
   "cell_type": "code",
   "execution_count": 2,
   "metadata": {
    "collapsed": true
   },
   "outputs": [],
   "source": [
    "def gen_inv_sq_mat(size = 3):\n",
    "    \"\"\"\n",
    "    Create a random invertible matrix\n",
    "    \"\"\"\n",
    "    try:\n",
    "        A = np.random.randint(1, 10, size=(size,size))\n",
    "        np.linalg.inv(A)\n",
    "        return A.astype(float)\n",
    "    except:\n",
    "        return gen_inv_sq_mat(size = size)"
   ]
  },
  {
   "cell_type": "code",
   "execution_count": 3,
   "metadata": {
    "collapsed": true
   },
   "outputs": [],
   "source": [
    "A = gen_inv_sq_mat()"
   ]
  },
  {
   "cell_type": "code",
   "execution_count": 4,
   "metadata": {
    "collapsed": false
   },
   "outputs": [
    {
     "data": {
      "text/plain": [
       "array([[ 2.,  9.,  3.],\n",
       "       [ 4.,  3.,  5.],\n",
       "       [ 6.,  6.,  7.]])"
      ]
     },
     "execution_count": 4,
     "metadata": {},
     "output_type": "execute_result"
    }
   ],
   "source": [
    "A "
   ]
  },
  {
   "cell_type": "code",
   "execution_count": 5,
   "metadata": {
    "collapsed": true
   },
   "outputs": [],
   "source": [
    "def ref(A):\n",
    "    \"\"\"\n",
    "    Reduces the square matrix A to its REF.\n",
    "    \"\"\"\n",
    "    A_ = A.copy()\n",
    "    for i in range(len(A_)):\n",
    "        if A_[i,i]==0:\n",
    "            print(\"Encountered zero leading term\")\n",
    "            return A_\n",
    "        A_[i+1:,] = A_[i+1:,] - (A_[i+1:,i]/A_[i,i])[:, None]*A_[i,None]\n",
    "    return A_"
   ]
  },
  {
   "cell_type": "code",
   "execution_count": 6,
   "metadata": {
    "collapsed": false
   },
   "outputs": [
    {
     "data": {
      "text/plain": [
       "array([[  2. ,   9. ,   3. ],\n",
       "       [  0. , -15. ,  -1. ],\n",
       "       [  0. ,   0. ,  -0.6]])"
      ]
     },
     "execution_count": 6,
     "metadata": {},
     "output_type": "execute_result"
    }
   ],
   "source": [
    "ref(A)"
   ]
  },
  {
   "cell_type": "markdown",
   "metadata": {},
   "source": [
    "### Problem 2\n",
    "\n",
    "Problem 2. Write a function that finds the LU decomposition of a square matrix. You may assume the decomposition exists and requires no row swaps."
   ]
  },
  {
   "cell_type": "code",
   "execution_count": 7,
   "metadata": {
    "collapsed": true
   },
   "outputs": [],
   "source": [
    "def lu_decomposition(A):\n",
    "    m,n = A.shape\n",
    "    U = np.copy(A)\n",
    "    L = np.eye(m)\n",
    "    for j in range(n):\n",
    "        for i in range(j+1, m):\n",
    "            L[i,j] = U[i,j]/U[j,j]\n",
    "            U[i,j:] = U[i,j:] - L[i,j]*U[j,j:]\n",
    "    return L,U"
   ]
  },
  {
   "cell_type": "code",
   "execution_count": 8,
   "metadata": {
    "collapsed": false
   },
   "outputs": [],
   "source": [
    "L,U = lu_decomposition(A)"
   ]
  },
  {
   "cell_type": "code",
   "execution_count": 9,
   "metadata": {
    "collapsed": false
   },
   "outputs": [
    {
     "data": {
      "text/plain": [
       "array([[ 1. ,  0. ,  0. ],\n",
       "       [ 2. ,  1. ,  0. ],\n",
       "       [ 3. ,  1.4,  1. ]])"
      ]
     },
     "execution_count": 9,
     "metadata": {},
     "output_type": "execute_result"
    }
   ],
   "source": [
    "L"
   ]
  },
  {
   "cell_type": "code",
   "execution_count": 10,
   "metadata": {
    "collapsed": false
   },
   "outputs": [
    {
     "data": {
      "text/plain": [
       "array([[  2. ,   9. ,   3. ],\n",
       "       [  0. , -15. ,  -1. ],\n",
       "       [  0. ,   0. ,  -0.6]])"
      ]
     },
     "execution_count": 10,
     "metadata": {},
     "output_type": "execute_result"
    }
   ],
   "source": [
    "U"
   ]
  },
  {
   "cell_type": "code",
   "execution_count": 11,
   "metadata": {
    "collapsed": false
   },
   "outputs": [
    {
     "data": {
      "text/plain": [
       "array([[ 2.,  9.,  3.],\n",
       "       [ 4.,  3.,  5.],\n",
       "       [ 6.,  6.,  7.]])"
      ]
     },
     "execution_count": 11,
     "metadata": {},
     "output_type": "execute_result"
    }
   ],
   "source": [
    "np.dot(L,U)"
   ]
  },
  {
   "cell_type": "markdown",
   "metadata": {},
   "source": [
    "### Problem 3.\n",
    "Write a function that, given $A$ and $b$, solves the square linear system $Ax = b$. Use the function from Problem 2 to compute $L$ and $U$, then use Equations 2.1 and 2.2 to solve for $y$, then $x$. You may again assume that there are no row swaps (so $P = I$ in this case)."
   ]
  },
  {
   "cell_type": "code",
   "execution_count": 12,
   "metadata": {
    "collapsed": false
   },
   "outputs": [
    {
     "data": {
      "text/plain": [
       "array([[ 7.,  2.,  8.],\n",
       "       [ 9.,  9.,  7.],\n",
       "       [ 3.,  9.,  6.]])"
      ]
     },
     "execution_count": 12,
     "metadata": {},
     "output_type": "execute_result"
    }
   ],
   "source": [
    "A = gen_inv_sq_mat()\n",
    "A"
   ]
  },
  {
   "cell_type": "code",
   "execution_count": 13,
   "metadata": {
    "collapsed": false
   },
   "outputs": [
    {
     "data": {
      "text/plain": [
       "array([[2],\n",
       "       [6],\n",
       "       [4]])"
      ]
     },
     "execution_count": 13,
     "metadata": {},
     "output_type": "execute_result"
    }
   ],
   "source": [
    "b = np.random.randint(1, 10, size = (len(A),1))\n",
    "b"
   ]
  },
  {
   "cell_type": "code",
   "execution_count": 14,
   "metadata": {
    "collapsed": false
   },
   "outputs": [],
   "source": [
    "def solve(A,b):\n",
    "    L,U = lu_decomposition(A)\n",
    "    #solve for Ly = b\n",
    "    y = np.zeros(shape=(len(b),1))\n",
    "    for i in range(len(y)):\n",
    "        y[i] = b[i]-np.sum([L[i,j]*y[j] for j in range(i)])\n",
    "    \n",
    "    #solve for Ux = y\n",
    "    x = np.zeros(shape=(len(b),1))\n",
    "    for i in range(len(x)-1,-1,-1):\n",
    "        x[i] = (1./U[i,i])*(y[i] - np.sum([U[i,j]*x[j] for j in range(i+1, len(x))]))\n",
    "    \n",
    "    return x"
   ]
  },
  {
   "cell_type": "code",
   "execution_count": 15,
   "metadata": {
    "collapsed": false
   },
   "outputs": [
    {
     "data": {
      "text/plain": [
       "array([[ 0.3630363 ],\n",
       "       [ 0.44224422],\n",
       "       [-0.17821782]])"
      ]
     },
     "execution_count": 15,
     "metadata": {},
     "output_type": "execute_result"
    }
   ],
   "source": [
    "x = solve(A,b)\n",
    "x"
   ]
  },
  {
   "cell_type": "code",
   "execution_count": 16,
   "metadata": {
    "collapsed": false
   },
   "outputs": [
    {
     "data": {
      "text/plain": [
       "array([[ 2.],\n",
       "       [ 6.],\n",
       "       [ 4.]])"
      ]
     },
     "execution_count": 16,
     "metadata": {},
     "output_type": "execute_result"
    }
   ],
   "source": [
    "np.dot(A,x)"
   ]
  },
  {
   "cell_type": "markdown",
   "metadata": {},
   "source": [
    "### Problem 4. \n",
    "\n",
    "Write a function that times different `scipy.linalg` functions for solving square linear systems.\n",
    "For various values of $n$, generate a random $n × n$ matrix $A$ and a random $n × 1$ vector $b$ using `np.random.random()`. Time how long it takes to solve the system $Ax = b$ with each of the following approaches:\n",
    "1. Invert $A$ with `la.inv()` and left-multiply the inverse to $b$.\n",
    "2. Use `la.solve()`.\n",
    "3. Use `la.lu_factor()` and `la.lu_solve()` to solve the system with the LU decomposition.\n",
    "4. Use `la.lu_factor()` and `la.lu_solve()`, but only time `la.lu_solve()`.\n",
    "\n",
    "Plot the system size $n$ versus the execution times. Use log scales if needed."
   ]
  },
  {
   "cell_type": "code",
   "execution_count": 17,
   "metadata": {
    "collapsed": true
   },
   "outputs": [],
   "source": [
    "n = 2**np.arange(0, 13, 2)"
   ]
  },
  {
   "cell_type": "code",
   "execution_count": 18,
   "metadata": {
    "collapsed": true
   },
   "outputs": [],
   "source": [
    "def method1(A,b):\n",
    "    A_inv = la.inv(A)\n",
    "    return np.dot(A_inv, b)\n",
    "\n",
    "def method2(A,b):\n",
    "    return la.solve(A, b)\n",
    "\n",
    "def method3(A,b):\n",
    "    lu, piv = la.lu_factor(A)\n",
    "    return la.lu_solve((lu,piv), b)"
   ]
  },
  {
   "cell_type": "code",
   "execution_count": 19,
   "metadata": {
    "collapsed": false
   },
   "outputs": [],
   "source": [
    "m1_times = []\n",
    "m2_times = []\n",
    "m3_times = []\n",
    "m4_times = []\n",
    "for i in n:\n",
    "    A = np.random.random(size=(i,i))\n",
    "    b = np.random.random(size=(i,1))\n",
    "    \n",
    "    #method1\n",
    "    start = time.time()\n",
    "    method1(A,b)\n",
    "    m1_times.append(time.time()-start)\n",
    "    \n",
    "    #method2\n",
    "    start = time.time()\n",
    "    method2(A,b)\n",
    "    m2_times.append(time.time()-start)\n",
    "    \n",
    "    #method3\n",
    "    start = time.time()\n",
    "    method3(A,b)\n",
    "    m3_times.append(time.time()-start)\n",
    "    \n",
    "    #method4\n",
    "    (lu,piv) = la.lu_factor(A)\n",
    "    start = time.time()\n",
    "    la.lu_solve((lu,piv), b)\n",
    "    m4_times.append(time.time()-start)\n",
    "    "
   ]
  },
  {
   "cell_type": "code",
   "execution_count": 20,
   "metadata": {
    "collapsed": false
   },
   "outputs": [
    {
     "data": {
      "text/plain": [
       "<matplotlib.text.Text at 0x11b9604e0>"
      ]
     },
     "execution_count": 20,
     "metadata": {},
     "output_type": "execute_result"
    },
    {
     "data": {
      "image/png": "[encoded data removed]",
      "text/plain": [
       "<matplotlib.figure.Figure at 0x110377e48>"
      ]
     },
     "metadata": {},
     "output_type": "display_data"
    }
   ],
   "source": [
    "fig, ax = plt.subplots(ncols=2, nrows=2, figsize=(20,8))\n",
    "ax = ax.flatten()\n",
    "ax[0].plot(n,m1_times, 'o-', label=\"method1\")\n",
    "ax[0].plot(n,m2_times, 'o-', label=\"method2\")\n",
    "ax[0].plot(n,m3_times, 'o-', label=\"method3\")\n",
    "ax[0].plot(n,m4_times, 'o-', label=\"method4\")\n",
    "ax[0].set_title(\"lin-lin plot\", size = 15)\n",
    "ax[0].legend(loc=0)\n",
    "\n",
    "ax[1].semilogy(n,m1_times, 'o-', label=\"method1\")\n",
    "ax[1].semilogy(n,m2_times, 'o-', label=\"method2\")\n",
    "ax[1].semilogy(n,m3_times, 'o-', label=\"method3\")\n",
    "ax[1].semilogy(n,m4_times, 'o-', label=\"method4\")\n",
    "ax[1].set_title(\"lin-log plot\", size = 15)\n",
    "\n",
    "ax[2].semilogx(n,m1_times, 'o-', label=\"method1\")\n",
    "ax[2].semilogx(n,m2_times, 'o-', label=\"method2\")\n",
    "ax[2].semilogx(n,m3_times, 'o-', label=\"method3\")\n",
    "ax[2].semilogx(n,m4_times, 'o-', label=\"method4\")\n",
    "ax[2].set_title(\"log-lin plot\", size = 15)\n",
    "\n",
    "ax[3].loglog(n,m1_times, 'o-', label=\"method1\")\n",
    "ax[3].loglog(n,m2_times, 'o-', label=\"method2\")\n",
    "ax[3].loglog(n,m3_times, 'o-', label=\"method3\")\n",
    "ax[3].loglog(n,m4_times, 'o-', label=\"method4\")\n",
    "ax[3].set_title(\"log-log plot\", size = 15)"
   ]
  },
  {
   "cell_type": "markdown",
   "metadata": {
    "collapsed": true
   },
   "source": [
    "### Problem 5\n",
    "\n",
    "Write a function that accepts an integer $n$ and returns a sparse $n × n$ tri-diagonal array $A$ with 2’s along the main diagonal and −1’s along the first subdiagonal and the first superdiagonal.\n"
   ]
  },
  {
   "cell_type": "code",
   "execution_count": 21,
   "metadata": {
    "collapsed": true
   },
   "outputs": [],
   "source": [
    "def tri_diag(n):\n",
    "    val, offsets = [-1,2,-1], [-1,0,1]\n",
    "    return sp.sparse.diags(val, offsets, shape=(n,n))"
   ]
  },
  {
   "cell_type": "code",
   "execution_count": 22,
   "metadata": {
    "collapsed": false
   },
   "outputs": [],
   "source": [
    "A = tri_diag(10)"
   ]
  },
  {
   "cell_type": "code",
   "execution_count": 23,
   "metadata": {
    "collapsed": false
   },
   "outputs": [
    {
     "data": {
      "text/plain": [
       "array([[ 2., -1.,  0.,  0.,  0.,  0.,  0.,  0.,  0.,  0.],\n",
       "       [-1.,  2., -1.,  0.,  0.,  0.,  0.,  0.,  0.,  0.],\n",
       "       [ 0., -1.,  2., -1.,  0.,  0.,  0.,  0.,  0.,  0.],\n",
       "       [ 0.,  0., -1.,  2., -1.,  0.,  0.,  0.,  0.,  0.],\n",
       "       [ 0.,  0.,  0., -1.,  2., -1.,  0.,  0.,  0.,  0.],\n",
       "       [ 0.,  0.,  0.,  0., -1.,  2., -1.,  0.,  0.,  0.],\n",
       "       [ 0.,  0.,  0.,  0.,  0., -1.,  2., -1.,  0.,  0.],\n",
       "       [ 0.,  0.,  0.,  0.,  0.,  0., -1.,  2., -1.,  0.],\n",
       "       [ 0.,  0.,  0.,  0.,  0.,  0.,  0., -1.,  2., -1.],\n",
       "       [ 0.,  0.,  0.,  0.,  0.,  0.,  0.,  0., -1.,  2.]])"
      ]
     },
     "execution_count": 23,
     "metadata": {},
     "output_type": "execute_result"
    }
   ],
   "source": [
    "A.toarray()"
   ]
  },
  {
   "cell_type": "markdown",
   "metadata": {},
   "source": [
    "### Problem 6. \n",
    "Write a function that times regular and sparse linear system solvers.\n",
    "For various values of $n$, generate the $n×n$ matrix $A$ described in Problem 5 and a random $n × 1$ vector b. Time how long it takes to solve the system $Ax = b$ with each of the following approaches:\n",
    "\n",
    "1. Convert A to CSR format, then use scipy.sparse.linalg.spsolve().\n",
    "2. Convert A to a NumPy array, then use scipy.linalg.solve().\n",
    "\n",
    "Plot the system size $n$ versus the execution times. As always, use log scales where appropriate and use a legend to label each line."
   ]
  },
  {
   "cell_type": "code",
   "execution_count": 24,
   "metadata": {
    "collapsed": false
   },
   "outputs": [
    {
     "data": {
      "text/plain": [
       "array([  16,   64,  256, 1024, 4096])"
      ]
     },
     "execution_count": 24,
     "metadata": {},
     "output_type": "execute_result"
    }
   ],
   "source": [
    "n = 2**np.arange(4,13,2)\n",
    "n"
   ]
  },
  {
   "cell_type": "code",
   "execution_count": 25,
   "metadata": {
    "collapsed": false
   },
   "outputs": [],
   "source": [
    "sparse_times = []\n",
    "naive_times = []\n",
    "for i in n:\n",
    "    A = tri_diag(i)\n",
    "    b = np.random.random(size=(i,1))\n",
    "    \n",
    "    #csr format\n",
    "    A_csr = A.tocsr()\n",
    "    start = time.time()\n",
    "    x_csr = spla.spsolve(A_csr, b)\n",
    "    sparse_times.append(time.time()-start)\n",
    "    \n",
    "    \n",
    "    #numpy's ndarray format\n",
    "    A_npy = A.toarray()\n",
    "    start = time.time()\n",
    "    x_npy = la.solve(A_npy, b)\n",
    "    naive_times.append(time.time()-start)\n",
    "    "
   ]
  },
  {
   "cell_type": "code",
   "execution_count": 26,
   "metadata": {
    "collapsed": false
   },
   "outputs": [
    {
     "data": {
      "text/plain": [
       "<matplotlib.text.Text at 0x11c79f240>"
      ]
     },
     "execution_count": 26,
     "metadata": {},
     "output_type": "execute_result"
    },
    {
     "data": {
      "image/png": "[encoded data removed]",
      "text/plain": [
       "<matplotlib.figure.Figure at 0x1340cc390>"
      ]
     },
     "metadata": {},
     "output_type": "display_data"
    }
   ],
   "source": [
    "fig, ax = plt.subplots(ncols=2, nrows=2, figsize=(20,8))\n",
    "ax = ax.flatten()\n",
    "ax[0].plot(n,sparse_times, 'o-', label=\"Using `sp.sparse.linalg.spsolve()`\")\n",
    "ax[0].plot(n,naive_times, 'o-', label=\"Using `np.linalg.solve()`\")\n",
    "ax[0].set_title(\"lin-lin plot\", size = 15)\n",
    "ax[0].legend(loc=0)\n",
    "\n",
    "ax[1].semilogy(n,sparse_times, 'o-')\n",
    "ax[1].semilogy(n,naive_times, 'o-')\n",
    "ax[1].set_title(\"lin-log plot\", size = 15)\n",
    "\n",
    "ax[2].semilogx(n,sparse_times, 'o-')\n",
    "ax[2].semilogx(n,naive_times, 'o-')\n",
    "ax[2].set_title(\"log-lin plot\", size = 15)\n",
    "\n",
    "ax[3].loglog(n,sparse_times, 'o-')\n",
    "ax[3].loglog(n,naive_times, 'o-')\n",
    "ax[3].set_title(\"log-log plot\", size = 15)"
   ]
  },
  {
   "cell_type": "markdown",
   "metadata": {},
   "source": [
    "### Additonal Exercises"
   ]
  },
  {
   "cell_type": "markdown",
   "metadata": {},
   "source": [
    "### Fast LU Decomposition"
   ]
  },
  {
   "cell_type": "code",
   "execution_count": 27,
   "metadata": {
    "collapsed": true
   },
   "outputs": [],
   "source": [
    "def fast_LU(A):\n",
    "    m,n  = A.shape\n",
    "    U = A.copy()\n",
    "    L = np.eye(m)\n",
    "    \n",
    "    for k in range(n):\n",
    "        L[k+1:,k] = U[k+1:,k]/U[k,k]\n",
    "        U[k+1:,k:] = U[k+1:, k:] - L[k+1:,k, None]*U[k,k:].T\n",
    "    return L,U"
   ]
  },
  {
   "cell_type": "code",
   "execution_count": 28,
   "metadata": {
    "collapsed": false
   },
   "outputs": [
    {
     "data": {
      "text/plain": [
       "array([[ 7.,  9.,  4.],\n",
       "       [ 1.,  6.,  6.],\n",
       "       [ 9.,  8.,  2.]])"
      ]
     },
     "execution_count": 28,
     "metadata": {},
     "output_type": "execute_result"
    }
   ],
   "source": [
    "A = gen_inv_sq_mat()\n",
    "A"
   ]
  },
  {
   "cell_type": "code",
   "execution_count": 29,
   "metadata": {
    "collapsed": true
   },
   "outputs": [],
   "source": [
    "L,U = lu_decomposition(A)"
   ]
  },
  {
   "cell_type": "code",
   "execution_count": 30,
   "metadata": {
    "collapsed": false
   },
   "outputs": [
    {
     "data": {
      "text/plain": [
       "array([[ 1.        ,  0.        ,  0.        ],\n",
       "       [ 0.14285714,  1.        ,  0.        ],\n",
       "       [ 1.28571429, -0.75757576,  1.        ]])"
      ]
     },
     "execution_count": 30,
     "metadata": {},
     "output_type": "execute_result"
    }
   ],
   "source": [
    "L"
   ]
  },
  {
   "cell_type": "code",
   "execution_count": 31,
   "metadata": {
    "collapsed": false
   },
   "outputs": [
    {
     "data": {
      "text/plain": [
       "array([[ 7.        ,  9.        ,  4.        ],\n",
       "       [ 0.        ,  4.71428571,  5.42857143],\n",
       "       [ 0.        ,  0.        ,  0.96969697]])"
      ]
     },
     "execution_count": 31,
     "metadata": {},
     "output_type": "execute_result"
    }
   ],
   "source": [
    "U"
   ]
  },
  {
   "cell_type": "code",
   "execution_count": 32,
   "metadata": {
    "collapsed": false
   },
   "outputs": [
    {
     "data": {
      "text/plain": [
       "(array([[ 1.        ,  0.        ,  0.        ],\n",
       "        [ 0.14285714,  1.        ,  0.        ],\n",
       "        [ 1.28571429, -0.75757576,  1.        ]]),\n",
       " array([[ 7.        ,  9.        ,  4.        ],\n",
       "        [ 0.        ,  4.71428571,  5.42857143],\n",
       "        [ 0.        ,  0.        ,  0.96969697]]))"
      ]
     },
     "execution_count": 32,
     "metadata": {},
     "output_type": "execute_result"
    }
   ],
   "source": [
    "fast_LU(A)"
   ]
  },
  {
   "cell_type": "markdown",
   "metadata": {},
   "source": [
    "### LU Decomposition with Pivoting"
   ]
  },
  {
   "cell_type": "code",
   "execution_count": 33,
   "metadata": {
    "collapsed": true
   },
   "outputs": [],
   "source": [
    "def pivot_LU(A):\n",
    "    m,n = A.shape\n",
    "    U = np.copy(A)\n",
    "    L = np.eye(m)\n",
    "    P = np.arange(n)\n",
    "    for k in range(n):\n",
    "        i =np.argmax(np.abs(U[k:,k]))\n",
    "        U[k,k:],U[i,k:] = U[i,k:].copy(),U[k,k:].copy()\n",
    "        L[k,:k],L[i,:k] = L[i,:k].copy(),L[k,:k].copy()\n",
    "        P[k],P[i] = P[i].copy(), P[k].copy()\n",
    "        L[k+1:,k] = U[k+1:,k]/U[k,k]\n",
    "        U[k+1:,k:] = U[k+1:,k:] - L[k+1:,k,None]*U[k,k:].T\n",
    "    return L,U,P"
   ]
  },
  {
   "cell_type": "code",
   "execution_count": 34,
   "metadata": {
    "collapsed": false,
    "scrolled": false
   },
   "outputs": [],
   "source": [
    "L,U,P = pivot_LU(A)"
   ]
  },
  {
   "cell_type": "code",
   "execution_count": 35,
   "metadata": {
    "collapsed": false
   },
   "outputs": [
    {
     "data": {
      "text/plain": [
       "array([[ 7.,  9.,  4.],\n",
       "       [ 9.,  8.,  2.],\n",
       "       [ 1.,  6.,  6.]])"
      ]
     },
     "execution_count": 35,
     "metadata": {},
     "output_type": "execute_result"
    }
   ],
   "source": [
    "A[P]"
   ]
  },
  {
   "cell_type": "code",
   "execution_count": 36,
   "metadata": {
    "collapsed": false
   },
   "outputs": [
    {
     "data": {
      "text/plain": [
       "array([[  7.        ,   6.75308642,   2.05555556],\n",
       "       [  9.        ,  13.11111111,   3.75      ],\n",
       "       [  1.        ,   0.56790123,   5.97222222]])"
      ]
     },
     "execution_count": 36,
     "metadata": {},
     "output_type": "execute_result"
    }
   ],
   "source": [
    "np.dot(L,U)"
   ]
  },
  {
   "cell_type": "markdown",
   "metadata": {},
   "source": [
    "### Inverse"
   ]
  },
  {
   "cell_type": "code",
   "execution_count": 37,
   "metadata": {
    "collapsed": false
   },
   "outputs": [
    {
     "data": {
      "text/plain": [
       "array([[ 7.,  9.,  4.],\n",
       "       [ 1.,  6.,  6.],\n",
       "       [ 9.,  8.,  2.]])"
      ]
     },
     "execution_count": 37,
     "metadata": {},
     "output_type": "execute_result"
    }
   ],
   "source": [
    "A"
   ]
  },
  {
   "cell_type": "code",
   "execution_count": 38,
   "metadata": {
    "collapsed": false
   },
   "outputs": [],
   "source": [
    "def inverse_LU(A):\n",
    "    L,U,P = pivot_LU(A)\n",
    "    P = np.eye(len(A))[P]\n",
    "    \n",
    "    #solve for LUA_inv = P\n",
    "\n",
    "    #first solve for LB = P where B = UA_inv\n",
    "    B = np.zeros(L.shape)\n",
    "    for i in range(len(B)):\n",
    "        B[i] = P[i] - np.dot(L[i, :i+1],B[:i+1]) \n",
    "\n",
    "    #now solve for UA_inv = B\n",
    "    A_inv = np.zeros(A.shape)\n",
    "    for i in range(len(A_inv)-1, -1, -1):\n",
    "        A_inv[i] = (1/U[i,i])*(B[i] - np.dot(U[i, i+1:],A_inv[i+1:]))\n",
    "    \n",
    "    return A_inv"
   ]
  },
  {
   "cell_type": "code",
   "execution_count": 39,
   "metadata": {
    "collapsed": false
   },
   "outputs": [],
   "source": [
    "A_inv = inverse_LU(A)"
   ]
  },
  {
   "cell_type": "code",
   "execution_count": 40,
   "metadata": {
    "collapsed": false
   },
   "outputs": [
    {
     "data": {
      "text/plain": [
       "array([[ 0.12310066,  0.23931624,  0.62808642],\n",
       "       [-0.65343067,  0.76976496,  0.67901235],\n",
       "       [ 0.64797009, -0.08173077,  0.36111111]])"
      ]
     },
     "execution_count": 40,
     "metadata": {},
     "output_type": "execute_result"
    }
   ],
   "source": [
    "np.dot(A,A_inv)"
   ]
  },
  {
   "cell_type": "markdown",
   "metadata": {},
   "source": [
    "### Determinant"
   ]
  },
  {
   "cell_type": "markdown",
   "metadata": {},
   "source": [
    "$det(A) = \\frac{det(L)det(U)}{det(P)}$\n",
    "\n"
   ]
  },
  {
   "cell_type": "code",
   "execution_count": 41,
   "metadata": {
    "collapsed": true
   },
   "outputs": [],
   "source": [
    "def determinant_LU(A):\n",
    "    L,U,P = pivot_LU(A)\n",
    "    det = np.product(np.diag(U))\n",
    "    if count_swaps(P)%2==0:\n",
    "        return det\n",
    "    else:\n",
    "        return -det"
   ]
  },
  {
   "cell_type": "code",
   "execution_count": 42,
   "metadata": {
    "collapsed": false
   },
   "outputs": [],
   "source": [
    "def count_swaps(P):\n",
    "    not_ar = P[P!=np.arange(len(P))]\n",
    "    i = 0\n",
    "    count = 0\n",
    "    while (not_ar!=np.sort(not_ar)).any():\n",
    "        for j in range(len(not_ar[i:])):\n",
    "            if not_ar[i]>not_ar[i+j]:\n",
    "                not_ar[i],not_ar[i+j]=not_ar[i+j],not_ar[i]\n",
    "                count+=1\n",
    "        i+=1\n",
    "    return count"
   ]
  },
  {
   "cell_type": "code",
   "execution_count": 43,
   "metadata": {
    "collapsed": true
   },
   "outputs": [],
   "source": [
    "A = gen_inv_sq_mat(8)"
   ]
  },
  {
   "cell_type": "code",
   "execution_count": 44,
   "metadata": {
    "collapsed": false
   },
   "outputs": [
    {
     "data": {
      "text/plain": [
       "-3604103.999999999"
      ]
     },
     "execution_count": 44,
     "metadata": {},
     "output_type": "execute_result"
    }
   ],
   "source": [
    "sp.linalg.det(A)"
   ]
  },
  {
   "cell_type": "code",
   "execution_count": 45,
   "metadata": {
    "collapsed": false
   },
   "outputs": [
    {
     "data": {
      "text/plain": [
       "-101745.13190082647"
      ]
     },
     "execution_count": 45,
     "metadata": {},
     "output_type": "execute_result"
    }
   ],
   "source": [
    "determinant_LU(A)"
   ]
  },
  {
   "cell_type": "markdown",
   "metadata": {},
   "source": [
    "### Cholesky Decomposition"
   ]
  },
  {
   "cell_type": "code",
   "execution_count": 46,
   "metadata": {
    "collapsed": false
   },
   "outputs": [],
   "source": [
    "def cholesky(A):\n",
    "    U = A.copy()\n",
    "    for i in range(len(U)):\n",
    "        for j in range(i+1, len(U)):\n",
    "            U[j,j:] = U[j,j:] - U[i,j:]*np.conjugate(U[i,j])/U[i,i]\n",
    "        U[i,i:] = U[i,i:]/np.sqrt(U[i,i])\n",
    "    return U"
   ]
  },
  {
   "cell_type": "code",
   "execution_count": 47,
   "metadata": {
    "collapsed": true
   },
   "outputs": [],
   "source": [
    "A = np.array([[4, 12, -16],\n",
    "              [12, 37, -43],\n",
    "              [-16, -43, 98]])"
   ]
  },
  {
   "cell_type": "code",
   "execution_count": 48,
   "metadata": {
    "collapsed": false
   },
   "outputs": [
    {
     "data": {
      "text/plain": [
       "array([[  2,   6,  -8],\n",
       "       [ 12,   1,   5],\n",
       "       [-16, -43,   3]])"
      ]
     },
     "execution_count": 48,
     "metadata": {},
     "output_type": "execute_result"
    }
   ],
   "source": [
    "U = cholesky(A)\n",
    "U"
   ]
  },
  {
   "cell_type": "code",
   "execution_count": null,
   "metadata": {
    "collapsed": true
   },
   "outputs": [],
   "source": []
  }
 ],
 "metadata": {
  "anaconda-cloud": {},
  "kernelspec": {
   "display_name": "Python [conda env:impact]",
   "language": "python",
   "name": "conda-env-impact-py"
  },
  "language_info": {
   "codemirror_mode": {
    "name": "ipython",
    "version": 3
   },
   "file_extension": ".py",
   "mimetype": "text/x-python",
   "name": "python",
   "nbconvert_exporter": "python",
   "pygments_lexer": "ipython3",
   "version": "3.6.0"
  }
 },
 "nbformat": 4,
 "nbformat_minor": 1
}
