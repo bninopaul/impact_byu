{
 "cells": [
  {
   "cell_type": "code",
   "execution_count": 1,
   "metadata": {
    "collapsed": true
   },
   "outputs": [],
   "source": [
    "import numpy as np\n",
    "import scipy as sp\n",
    "import sympy as sy\n",
    "import scipy.linalg as la \n",
    "import scipy.sparse.linalg as spla\n",
    "import time \n",
    "import matplotlib.pyplot as plt\n",
    "import cmath\n",
    "from utils import helper\n",
    "%matplotlib inline\n",
    "sy.init_printing()"
   ]
  },
  {
   "cell_type": "markdown",
   "metadata": {},
   "source": [
    "## Sympy"
   ]
  },
  {
   "cell_type": "markdown",
   "metadata": {},
   "source": [
    "### Problem 1. \n",
    "Write a function `myexp` that takes an integer `n` as a parameter and evaluates `e` to the `nth` digit, using an approach similar to the code given above. Use the series \n",
    "\n",
    "$$ e = \\sum^{\\infty}_{n=0}{\\frac{1}{n !}}$$\n",
    "\n",
    "Use the same condition as above to determine when to break your while loop."
   ]
  },
  {
   "cell_type": "code",
   "execution_count": 2,
   "metadata": {
    "collapsed": false
   },
   "outputs": [],
   "source": [
    "def myexp(n):\n",
    "    tot = sy.Rational(0, 1)\n",
    "    term = 1\n",
    "    bound = sy.Rational(1,10)**(n+1)\n",
    "    i = 0\n",
    "    while bound <= term:\n",
    "        term = sy.Rational(1, sy.factorial(i))\n",
    "        tot+=term\n",
    "        i+=1\n",
    "    return sy.Float(tot, n)"
   ]
  },
  {
   "cell_type": "code",
   "execution_count": 3,
   "metadata": {
    "collapsed": false
   },
   "outputs": [
    {
     "data": {
      "image/png": "[encoded data removed]",
      "text/latex": [
       "$$2.72$$"
      ],
      "text/plain": [
       "2.72"
      ]
     },
     "execution_count": 3,
     "metadata": {},
     "output_type": "execute_result"
    }
   ],
   "source": [
    "myexp(3)"
   ]
  },
  {
   "cell_type": "code",
   "execution_count": 4,
   "metadata": {
    "collapsed": false
   },
   "outputs": [
    {
     "data": {
      "image/png": "[encoded data removed]",
      "text/latex": [
       "$$2.71828$$"
      ],
      "text/plain": [
       "2.71828"
      ]
     },
     "execution_count": 4,
     "metadata": {},
     "output_type": "execute_result"
    }
   ],
   "source": [
    "myexp(6)"
   ]
  },
  {
   "cell_type": "code",
   "execution_count": 5,
   "metadata": {
    "collapsed": false
   },
   "outputs": [
    {
     "data": {
      "image/png": "[encoded data removed]",
      "text/latex": [
       "$$2.718281828$$"
      ],
      "text/plain": [
       "2.718281828"
      ]
     },
     "execution_count": 5,
     "metadata": {},
     "output_type": "execute_result"
    }
   ],
   "source": [
    "myexp(10)"
   ]
  },
  {
   "cell_type": "markdown",
   "metadata": {},
   "source": [
    "### Problem 2.\n",
    "Use SymPy to solve the equation $y = e^x + x$ for $x$. The SymPy syntax for $e^x$ is simply `sy.exp(x)`, provided that `x` has been initialized as a symbol. The answer will be in terms of the Lambert `W` function, which is a special function available in most major symbolic math libraries. It is included in both SciPy and SymPy and is defined as the inverse of $y=xe^x$ "
   ]
  },
  {
   "cell_type": "code",
   "execution_count": 6,
   "metadata": {
    "collapsed": false
   },
   "outputs": [],
   "source": [
    "x,y = sy.symbols(\"x,y\")\n",
    "expr = sy.Eq(sy.exp(x) + x, y)\n",
    "ans = sy.solve(expr, x)"
   ]
  },
  {
   "cell_type": "code",
   "execution_count": 7,
   "metadata": {
    "collapsed": false
   },
   "outputs": [
    {
     "data": {
      "image/png": "[encoded data removed]",
      "text/latex": [
       "$$\\left [ y - \\operatorname{LambertW}{\\left (e^{y} \\right )}\\right ]$$"
      ],
      "text/plain": [
       "⎡            ⎛ y⎞⎤\n",
       "⎣y - LambertW⎝ℯ ⎠⎦"
      ]
     },
     "execution_count": 7,
     "metadata": {},
     "output_type": "execute_result"
    }
   ],
   "source": [
    "ans"
   ]
  },
  {
   "cell_type": "code",
   "execution_count": 8,
   "metadata": {
    "collapsed": false
   },
   "outputs": [
    {
     "data": {
      "image/png": "[encoded data removed]",
      "text/latex": [
       "$$x y + x + y + 1$$"
      ],
      "text/plain": [
       "x⋅y + x + y + 1"
      ]
     },
     "execution_count": 8,
     "metadata": {},
     "output_type": "execute_result"
    }
   ],
   "source": [
    "#using sympy to simplify expression\n",
    "w, x, y, z=sy.symbols('w, x, y, z')\n",
    "expr = ((w*x**2*y**2 - w*x**2 - w*y**2 + w - x**2*y**2*z + 2*x**2*y**2 + x**2*z-2*x**2+y**2*z-2*y**2-z+2)/\n",
    "        (w*x*y-w*x-w*y+w-x*y*z+2*x*y + x*z - 2*x + y*z - 2*y - z + 2))\n",
    "expr.simplify()"
   ]
  },
  {
   "cell_type": "code",
   "execution_count": 9,
   "metadata": {
    "collapsed": false
   },
   "outputs": [
    {
     "data": {
      "image/png": "[encoded data removed]",
      "text/latex": [
       "$$\\frac{w x^{2} y^{2}}{w x y - w x - w y + w - x y z + 2 x y + x z - 2 x + y z - 2 y - z + 2} - \\frac{w x^{2}}{w x y - w x - w y + w - x y z + 2 x y + x z - 2 x + y z - 2 y - z + 2} - \\frac{w y^{2}}{w x y - w x - w y + w - x y z + 2 x y + x z - 2 x + y z - 2 y - z + 2} + \\frac{w}{w x y - w x - w y + w - x y z + 2 x y + x z - 2 x + y z - 2 y - z + 2} - \\frac{x^{2} y^{2} z}{w x y - w x - w y + w - x y z + 2 x y + x z - 2 x + y z - 2 y - z + 2} + \\frac{2 x^{2} y^{2}}{w x y - w x - w y + w - x y z + 2 x y + x z - 2 x + y z - 2 y - z + 2} + \\frac{x^{2} z}{w x y - w x - w y + w - x y z + 2 x y + x z - 2 x + y z - 2 y - z + 2} - \\frac{2 x^{2}}{w x y - w x - w y + w - x y z + 2 x y + x z - 2 x + y z - 2 y - z + 2} + \\frac{y^{2} z}{w x y - w x - w y + w - x y z + 2 x y + x z - 2 x + y z - 2 y - z + 2} - \\frac{2 y^{2}}{w x y - w x - w y + w - x y z + 2 x y + x z - 2 x + y z - 2 y - z + 2} - \\frac{z}{w x y - w x - w y + w - x y z + 2 x y + x z - 2 x + y z - 2 y - z + 2} + \\frac{2}{w x y - w x - w y + w - x y z + 2 x y + x z - 2 x + y z - 2 y - z + 2}$$"
      ],
      "text/plain": [
       "                                  2  2                                        \n",
       "                               w⋅x ⋅y                                         \n",
       "───────────────────────────────────────────────────────────────────── - ──────\n",
       "w⋅x⋅y - w⋅x - w⋅y + w - x⋅y⋅z + 2⋅x⋅y + x⋅z - 2⋅x + y⋅z - 2⋅y - z + 2   w⋅x⋅y \n",
       "\n",
       "                              2                                               \n",
       "                           w⋅x                                                \n",
       "─────────────────────────────────────────────────────────────── - ────────────\n",
       "- w⋅x - w⋅y + w - x⋅y⋅z + 2⋅x⋅y + x⋅z - 2⋅x + y⋅z - 2⋅y - z + 2   w⋅x⋅y - w⋅x \n",
       "\n",
       "                        2                                                     \n",
       "                     w⋅y                                                      \n",
       "───────────────────────────────────────────────────────── + ──────────────────\n",
       "- w⋅y + w - x⋅y⋅z + 2⋅x⋅y + x⋅z - 2⋅x + y⋅z - 2⋅y - z + 2   w⋅x⋅y - w⋅x - w⋅y \n",
       "\n",
       "                                                                              \n",
       "                w                                                             \n",
       "─────────────────────────────────────────────────── - ────────────────────────\n",
       "+ w - x⋅y⋅z + 2⋅x⋅y + x⋅z - 2⋅x + y⋅z - 2⋅y - z + 2   w⋅x⋅y - w⋅x - w⋅y + w - \n",
       "\n",
       "        2  2                                                                  \n",
       "       x ⋅y ⋅z                                                                \n",
       "───────────────────────────────────────────── + ──────────────────────────────\n",
       "x⋅y⋅z + 2⋅x⋅y + x⋅z - 2⋅x + y⋅z - 2⋅y - z + 2   w⋅x⋅y - w⋅x - w⋅y + w - x⋅y⋅z \n",
       "\n",
       "    2  2                                                                    2 \n",
       " 2⋅x ⋅y                                                                    x ⋅\n",
       "─────────────────────────────────────── + ────────────────────────────────────\n",
       "+ 2⋅x⋅y + x⋅z - 2⋅x + y⋅z - 2⋅y - z + 2   w⋅x⋅y - w⋅x - w⋅y + w - x⋅y⋅z + 2⋅x⋅\n",
       "\n",
       "                                                                        2     \n",
       "z                                                                    2⋅x      \n",
       "───────────────────────────────── - ──────────────────────────────────────────\n",
       "y + x⋅z - 2⋅x + y⋅z - 2⋅y - z + 2   w⋅x⋅y - w⋅x - w⋅y + w - x⋅y⋅z + 2⋅x⋅y + x⋅\n",
       "\n",
       "                                                                2             \n",
       "                                                               y ⋅z           \n",
       "─────────────────────────── + ────────────────────────────────────────────────\n",
       "z - 2⋅x + y⋅z - 2⋅y - z + 2   w⋅x⋅y - w⋅x - w⋅y + w - x⋅y⋅z + 2⋅x⋅y + x⋅z - 2⋅\n",
       "\n",
       "                                                            2                 \n",
       "                                                         2⋅y                  \n",
       "───────────────────── - ──────────────────────────────────────────────────────\n",
       "x + y⋅z - 2⋅y - z + 2   w⋅x⋅y - w⋅x - w⋅y + w - x⋅y⋅z + 2⋅x⋅y + x⋅z - 2⋅x + y⋅\n",
       "\n",
       "                                                                              \n",
       "                                                    z                         \n",
       "─────────────── - ────────────────────────────────────────────────────────────\n",
       "z - 2⋅y - z + 2   w⋅x⋅y - w⋅x - w⋅y + w - x⋅y⋅z + 2⋅x⋅y + x⋅z - 2⋅x + y⋅z - 2⋅\n",
       "\n",
       "                                                                              \n",
       "                                              2                               \n",
       "───────── + ──────────────────────────────────────────────────────────────────\n",
       "y - z + 2   w⋅x⋅y - w⋅x - w⋅y + w - x⋅y⋅z + 2⋅x⋅y + x⋅z - 2⋅x + y⋅z - 2⋅y - z \n",
       "\n",
       "   \n",
       "   \n",
       "───\n",
       "+ 2"
      ]
     },
     "execution_count": 9,
     "metadata": {},
     "output_type": "execute_result"
    }
   ],
   "source": [
    "expr.expand()"
   ]
  },
  {
   "cell_type": "code",
   "execution_count": 10,
   "metadata": {
    "collapsed": false
   },
   "outputs": [
    {
     "data": {
      "image/png": "[encoded data removed]",
      "text/latex": [
       "$$\\left(x + 1\\right) \\left(y + 1\\right)$$"
      ],
      "text/plain": [
       "(x + 1)⋅(y + 1)"
      ]
     },
     "execution_count": 10,
     "metadata": {},
     "output_type": "execute_result"
    }
   ],
   "source": [
    "expr.factor()"
   ]
  },
  {
   "cell_type": "code",
   "execution_count": 11,
   "metadata": {
    "collapsed": false
   },
   "outputs": [
    {
     "data": {
      "image/png": "[encoded data removed]",
      "text/latex": [
       "$$\\frac{w x^{2} y^{2} - w x^{2} - w y^{2} + w - x^{2} y^{2} z + 2 x^{2} y^{2} + x^{2} z - 2 x^{2} + y^{2} z - 2 y^{2} - z + 2}{w x y - w x - w y + w - x y z + 2 x y + x z - 2 x + y z - 2 y - z + 2}$$"
      ],
      "text/plain": [
       "   2  2      2      2        2  2        2  2    2        2    2        2     \n",
       "w⋅x ⋅y  - w⋅x  - w⋅y  + w - x ⋅y ⋅z + 2⋅x ⋅y  + x ⋅z - 2⋅x  + y ⋅z - 2⋅y  - z \n",
       "──────────────────────────────────────────────────────────────────────────────\n",
       "      w⋅x⋅y - w⋅x - w⋅y + w - x⋅y⋅z + 2⋅x⋅y + x⋅z - 2⋅x + y⋅z - 2⋅y - z + 2   \n",
       "\n",
       "   \n",
       "+ 2\n",
       "───\n",
       "   "
      ]
     },
     "execution_count": 11,
     "metadata": {},
     "output_type": "execute_result"
    }
   ],
   "source": [
    "expr.trigsimp()"
   ]
  },
  {
   "cell_type": "code",
   "execution_count": 12,
   "metadata": {
    "collapsed": false
   },
   "outputs": [
    {
     "data": {
      "image/png": "[encoded data removed]",
      "text/latex": [
       "$$x y + x + y + 1$$"
      ],
      "text/plain": [
       "x⋅y + x + y + 1"
      ]
     },
     "execution_count": 12,
     "metadata": {},
     "output_type": "execute_result"
    }
   ],
   "source": [
    "expr.cancel()"
   ]
  },
  {
   "cell_type": "code",
   "execution_count": 13,
   "metadata": {
    "collapsed": false
   },
   "outputs": [
    {
     "data": {
      "image/png": "[encoded data removed]",
      "text/latex": [
       "$$\\frac{- w y^{2} + w + y^{2} z - 2 y^{2} - z + 2}{- w y + w + y z - 2 y - z + 2}$$"
      ],
      "text/plain": [
       "     2        2        2        \n",
       "- w⋅y  + w + y ⋅z - 2⋅y  - z + 2\n",
       "────────────────────────────────\n",
       "  -w⋅y + w + y⋅z - 2⋅y - z + 2  "
      ]
     },
     "execution_count": 13,
     "metadata": {},
     "output_type": "execute_result"
    }
   ],
   "source": [
    "expr.subs(x, 0)"
   ]
  },
  {
   "cell_type": "code",
   "execution_count": 14,
   "metadata": {
    "collapsed": false
   },
   "outputs": [
    {
     "data": {
      "image/png": "[encoded data removed]",
      "text/latex": [
       "$$3.0$$"
      ],
      "text/plain": [
       "3.00000000000000"
      ]
     },
     "execution_count": 14,
     "metadata": {},
     "output_type": "execute_result"
    }
   ],
   "source": [
    "expr.subs({x: 0., y:2., z:1, w:5.})"
   ]
  },
  {
   "cell_type": "markdown",
   "metadata": {},
   "source": [
    "##### Calculus in Sympy"
   ]
  },
  {
   "cell_type": "code",
   "execution_count": 15,
   "metadata": {
    "collapsed": false
   },
   "outputs": [
    {
     "data": {
      "image/png": "[encoded data removed]",
      "text/latex": [
       "$$4308669456480829440000 \\left(x^{3} + 36 x^{2} y + 426 x y^{2} + 1656 y^{3}\\right)$$"
      ],
      "text/plain": [
       "                       ⎛ 3       2            2         3⎞\n",
       "4308669456480829440000⋅⎝x  + 36⋅x ⋅y + 426⋅x⋅y  + 1656⋅y ⎠"
      ]
     },
     "execution_count": 15,
     "metadata": {},
     "output_type": "execute_result"
    }
   ],
   "source": [
    "#partial differentiation\n",
    "x, y, i = sy.symbols('x, y, i')\n",
    "expr = sy.product((x+i*y), (i, 1, 23))\n",
    "expr = expr.expand()\n",
    "expr.diff(x, 20)"
   ]
  },
  {
   "cell_type": "code",
   "execution_count": 16,
   "metadata": {
    "collapsed": false
   },
   "outputs": [
    {
     "data": {
      "image/png": "[encoded data removed]",
      "text/latex": [
       "$$\\int e^{x} \\sin{\\left (x \\right )} \\sinh{\\left (x \\right )}\\, dx$$"
      ],
      "text/plain": [
       "⌠                     \n",
       "⎮  x                  \n",
       "⎮ ℯ ⋅sin(x)⋅sinh(x) dx\n",
       "⌡                     "
      ]
     },
     "execution_count": 16,
     "metadata": {},
     "output_type": "execute_result"
    }
   ],
   "source": [
    "#integration\n",
    "expr = sy.Integral(sy.sin(x)*sy.exp(x)*sy.sinh(x), x)\n",
    "expr"
   ]
  },
  {
   "cell_type": "code",
   "execution_count": 17,
   "metadata": {
    "collapsed": false
   },
   "outputs": [
    {
     "data": {
      "image/png": "[encoded data removed]",
      "text/latex": [
       "$$\\frac{e^{x}}{5} \\sin{\\left (x \\right )} \\sinh{\\left (x \\right )} + \\frac{e^{x}}{5} \\sin{\\left (x \\right )} \\cosh{\\left (x \\right )} - \\frac{3 e^{x}}{5} \\cos{\\left (x \\right )} \\sinh{\\left (x \\right )} + \\frac{2 e^{x}}{5} \\cos{\\left (x \\right )} \\cosh{\\left (x \\right )}$$"
      ],
      "text/plain": [
       " x                   x                     x                     x            \n",
       "ℯ ⋅sin(x)⋅sinh(x)   ℯ ⋅sin(x)⋅cosh(x)   3⋅ℯ ⋅cos(x)⋅sinh(x)   2⋅ℯ ⋅cos(x)⋅cosh\n",
       "───────────────── + ───────────────── - ─────────────────── + ────────────────\n",
       "        5                   5                    5                     5      \n",
       "\n",
       "   \n",
       "(x)\n",
       "───\n",
       "   "
      ]
     },
     "execution_count": 17,
     "metadata": {},
     "output_type": "execute_result"
    }
   ],
   "source": [
    "expr.doit()"
   ]
  },
  {
   "cell_type": "code",
   "execution_count": 18,
   "metadata": {
    "collapsed": false
   },
   "outputs": [
    {
     "data": {
      "image/png": "[encoded data removed]",
      "text/latex": [
       "$$\\left(x^{3} + y\\right)^{4} e^{y} \\sin{\\left (x \\right )} \\cos{\\left (x \\right )}$$"
      ],
      "text/plain": [
       "        4                 \n",
       "⎛ 3    ⎞   y              \n",
       "⎝x  + y⎠ ⋅ℯ ⋅sin(x)⋅cos(x)"
      ]
     },
     "execution_count": 18,
     "metadata": {},
     "output_type": "execute_result"
    }
   ],
   "source": [
    "#differentiation\n",
    "x, y = sy.symbols('x,y')\n",
    "expr = sy.sin(x)*sy.cos(x)*sy.exp(y)*(x**3+y)**4\n",
    "expr"
   ]
  },
  {
   "cell_type": "code",
   "execution_count": 19,
   "metadata": {
    "collapsed": false
   },
   "outputs": [
    {
     "data": {
      "image/png": "[encoded data removed]",
      "text/latex": [
       "$$12 x^{2} \\left(x^{3} + y\\right)^{3} e^{y} \\sin{\\left (x \\right )} \\cos{\\left (x \\right )} - \\left(x^{3} + y\\right)^{4} e^{y} \\sin^{2}{\\left (x \\right )} + \\left(x^{3} + y\\right)^{4} e^{y} \\cos^{2}{\\left (x \\right )}$$"
      ],
      "text/plain": [
       "              3                            4                      4           \n",
       "    2 ⎛ 3    ⎞   y                 ⎛ 3    ⎞   y    2      ⎛ 3    ⎞   y    2   \n",
       "12⋅x ⋅⎝x  + y⎠ ⋅ℯ ⋅sin(x)⋅cos(x) - ⎝x  + y⎠ ⋅ℯ ⋅sin (x) + ⎝x  + y⎠ ⋅ℯ ⋅cos (x)"
      ]
     },
     "execution_count": 19,
     "metadata": {},
     "output_type": "execute_result"
    }
   ],
   "source": [
    "#derivative is calculated using \n",
    "expr.diff(x)"
   ]
  },
  {
   "cell_type": "code",
   "execution_count": 20,
   "metadata": {
    "collapsed": false
   },
   "outputs": [
    {
     "data": {
      "image/png": "[encoded data removed]",
      "text/latex": [
       "$$12 x^{2} \\left(x^{3} + y\\right)^{3} e^{y} \\sin{\\left (x \\right )} \\cos{\\left (x \\right )} - \\left(x^{3} + y\\right)^{4} e^{y} \\sin^{2}{\\left (x \\right )} + \\left(x^{3} + y\\right)^{4} e^{y} \\cos^{2}{\\left (x \\right )}$$"
      ],
      "text/plain": [
       "              3                            4                      4           \n",
       "    2 ⎛ 3    ⎞   y                 ⎛ 3    ⎞   y    2      ⎛ 3    ⎞   y    2   \n",
       "12⋅x ⋅⎝x  + y⎠ ⋅ℯ ⋅sin(x)⋅cos(x) - ⎝x  + y⎠ ⋅ℯ ⋅sin (x) + ⎝x  + y⎠ ⋅ℯ ⋅cos (x)"
      ]
     },
     "execution_count": 20,
     "metadata": {},
     "output_type": "execute_result"
    }
   ],
   "source": [
    "#or this\n",
    "sy.Derivative(expr, x).doit()"
   ]
  },
  {
   "cell_type": "code",
   "execution_count": 21,
   "metadata": {
    "collapsed": false
   },
   "outputs": [
    {
     "data": {
      "image/png": "[encoded data removed]",
      "text/latex": [
       "$$4 \\left(x^{3} + y\\right) \\left(162 x^{6} \\sin{\\left (x \\right )} \\cos{\\left (x \\right )} - 81 x^{4} \\left(x^{3} + y\\right) \\sin^{2}{\\left (x \\right )} + 81 x^{4} \\left(x^{3} + y\\right) \\cos^{2}{\\left (x \\right )} + 162 x^{3} \\left(x^{3} + y\\right) \\sin{\\left (x \\right )} \\cos{\\left (x \\right )} - 36 x^{2} \\left(x^{3} + y\\right)^{2} \\sin{\\left (x \\right )} \\cos{\\left (x \\right )} - 18 x \\left(x^{3} + y\\right)^{2} \\sin^{2}{\\left (x \\right )} + 18 x \\left(x^{3} + y\\right)^{2} \\cos^{2}{\\left (x \\right )} + \\left(x^{3} + y\\right)^{3} \\sin^{2}{\\left (x \\right )} - \\left(x^{3} + y\\right)^{3} \\cos^{2}{\\left (x \\right )} + 6 \\left(x^{3} + y\\right)^{2} \\sin{\\left (x \\right )} \\cos{\\left (x \\right )}\\right) e^{y}$$"
      ],
      "text/plain": [
       "           ⎛                                                                  \n",
       "  ⎛ 3    ⎞ ⎜     6                     4 ⎛ 3    ⎞    2          4 ⎛ 3    ⎞    \n",
       "4⋅⎝x  + y⎠⋅⎝162⋅x ⋅sin(x)⋅cos(x) - 81⋅x ⋅⎝x  + y⎠⋅sin (x) + 81⋅x ⋅⎝x  + y⎠⋅cos\n",
       "\n",
       "                                                     2                        \n",
       "2           3 ⎛ 3    ⎞                     2 ⎛ 3    ⎞                       ⎛ \n",
       " (x) + 162⋅x ⋅⎝x  + y⎠⋅sin(x)⋅cos(x) - 36⋅x ⋅⎝x  + y⎠ ⋅sin(x)⋅cos(x) - 18⋅x⋅⎝x\n",
       "\n",
       "      2                        2                   3                   3      \n",
       "3    ⎞     2           ⎛ 3    ⎞     2      ⎛ 3    ⎞     2      ⎛ 3    ⎞     2 \n",
       "  + y⎠ ⋅sin (x) + 18⋅x⋅⎝x  + y⎠ ⋅cos (x) + ⎝x  + y⎠ ⋅sin (x) - ⎝x  + y⎠ ⋅cos (\n",
       "\n",
       "               2              ⎞   \n",
       "       ⎛ 3    ⎞               ⎟  y\n",
       "x) + 6⋅⎝x  + y⎠ ⋅sin(x)⋅cos(x)⎠⋅ℯ "
      ]
     },
     "execution_count": 21,
     "metadata": {},
     "output_type": "execute_result"
    }
   ],
   "source": [
    "#3rd derivative\n",
    "expr.diff(x, 3)"
   ]
  },
  {
   "cell_type": "code",
   "execution_count": 22,
   "metadata": {
    "collapsed": false
   },
   "outputs": [
    {
     "data": {
      "image/png": "[encoded data removed]",
      "text/latex": [
       "$$\\frac{4}{9}$$"
      ],
      "text/plain": [
       "4/9"
      ]
     },
     "execution_count": 22,
     "metadata": {},
     "output_type": "execute_result"
    }
   ],
   "source": [
    "#integrate two variables along 2 different bounds\n",
    "sy.integrate(y**2*x**2, (x, -1, 1), (y, -1, 1))"
   ]
  },
  {
   "cell_type": "markdown",
   "metadata": {},
   "source": [
    "### Problem 3.\n",
    "Use SymPy to symbolically evaluate \n",
    "$$\\int^{\\infty}_{0} sin(x^2)dx$$\n",
    "In SymPy, positive infinity is represented by the object `sy.oo`"
   ]
  },
  {
   "cell_type": "code",
   "execution_count": 23,
   "metadata": {
    "collapsed": false
   },
   "outputs": [
    {
     "data": {
      "image/png": "[encoded data removed]",
      "text/latex": [
       "$$\\frac{\\sqrt{2} \\sqrt{\\pi}}{4}$$"
      ],
      "text/plain": [
       "√2⋅√π\n",
       "─────\n",
       "  4  "
      ]
     },
     "execution_count": 23,
     "metadata": {},
     "output_type": "execute_result"
    }
   ],
   "source": [
    "x = sy.symbols(\"x\")\n",
    "sy.integrate(sy.sin(x**2), (x,0, sy.oo))"
   ]
  },
  {
   "cell_type": "markdown",
   "metadata": {},
   "source": [
    "### Problem 4. \n",
    "Use SymPy to calculate the derivate of $e^{sin(cos(x))}$ at `x = 1`. Time how long it takes to compute this derivative using SymPy as well as centered difference quotients and calculate the error for each approximation."
   ]
  },
  {
   "cell_type": "code",
   "execution_count": 24,
   "metadata": {
    "collapsed": false
   },
   "outputs": [
    {
     "data": {
      "image/png": "[encoded data removed]",
      "text/latex": [
       "$$e^{\\sin{\\left (\\cos{\\left (x \\right )} \\right )}}$$"
      ],
      "text/plain": [
       " sin(cos(x))\n",
       "ℯ           "
      ]
     },
     "execution_count": 24,
     "metadata": {},
     "output_type": "execute_result"
    }
   ],
   "source": [
    "#using sympy\n",
    "x = sy.symbols(\"x\")\n",
    "expr = sy.exp(sy.sin(sy.cos(x)))\n",
    "expr"
   ]
  },
  {
   "cell_type": "code",
   "execution_count": 25,
   "metadata": {
    "collapsed": false
   },
   "outputs": [
    {
     "name": "stdout",
     "output_type": "stream",
     "text": [
      "-1.20697770397991\n",
      "CPU times: user 8.07 ms, sys: 1.12 ms, total: 9.2 ms\n",
      "Wall time: 9.11 ms\n"
     ]
    }
   ],
   "source": [
    "%%time\n",
    "der_sympy = expr.diff().subs(x,1).evalf()\n",
    "print(der_sympy)"
   ]
  },
  {
   "cell_type": "code",
   "execution_count": 26,
   "metadata": {
    "collapsed": true
   },
   "outputs": [],
   "source": [
    "#using centered difference quotients\n",
    "def deriv(f, pts, h=1e-5):\n",
    "    return 0.5*(f(pts+h)-f(pts-h))/h\n",
    "\n",
    "f = lambda x: np.exp(np.sin(np.cos(x)))"
   ]
  },
  {
   "cell_type": "code",
   "execution_count": 27,
   "metadata": {
    "collapsed": false
   },
   "outputs": [
    {
     "name": "stdout",
     "output_type": "stream",
     "text": [
      "-1.20697770397991\n",
      "CPU times: user 1 ms, sys: 834 µs, total: 1.84 ms\n",
      "Wall time: 1.17 ms\n"
     ]
    }
   ],
   "source": [
    "%%time\n",
    "der_center = deriv(f, 1)\n",
    "print(der_sympy)"
   ]
  },
  {
   "cell_type": "code",
   "execution_count": 28,
   "metadata": {
    "collapsed": false
   },
   "outputs": [
    {
     "data": {
      "image/png": "[encoded data removed]",
      "text/latex": [
       "$$6.40458797107613 \\cdot 10^{-11}$$"
      ],
      "text/plain": [
       "6.40458797107613e-11"
      ]
     },
     "execution_count": 28,
     "metadata": {},
     "output_type": "execute_result"
    }
   ],
   "source": [
    "#abs error\n",
    "np.abs(der_sympy - der_center)"
   ]
  },
  {
   "cell_type": "markdown",
   "metadata": {},
   "source": [
    "### Problem 5. \n",
    "Use SymPy to solve the following differential equation:\n",
    "\n",
    "$$y_{xxxxxx} + 3y_{xxxx} + 3y_{xx} + y = x^{10}e^{x} + x^{11} sin(x) + x^{12} e^{x} sin(x) - x^{13}cos(2x) + x^{14}e^{x} cos (3x)$$\n",
    "You may recall from your last class on differential equations that this sort of problem is solved by the method of undetermined coefficients. Imagine how terrible this would be to do by hand!"
   ]
  },
  {
   "cell_type": "code",
   "execution_count": 29,
   "metadata": {
    "collapsed": true
   },
   "outputs": [],
   "source": [
    "x = sy.symbols(\"x\")\n",
    "y = sy.Function('y')\n",
    "eq = sy.Eq(y(x).diff(x, 6) + 3*y(x).diff(x, 4) + 3*y(x).diff(x, 2) + y(x),\n",
    "           x**10*sy.exp(x) + x**11*sy.sin(x) + x**12*sy.exp(x)*sy.sin(x) - x**13*sy.cos(2*x)\n",
    "           + x**14*sy.exp(x)*sy.cos(3*x))"
   ]
  },
  {
   "cell_type": "code",
   "execution_count": 30,
   "metadata": {
    "collapsed": false
   },
   "outputs": [
    {
     "data": {
      "image/png": "[encoded data removed]",
      "text/latex": [
       "$$y{\\left (x \\right )} = \\frac{x^{14} e^{x}}{614125} \\left(666 \\sin{\\left (3 x \\right )} + 413 \\cos{\\left (3 x \\right )}\\right) + \\frac{x^{13}}{1409416875} \\left(- 41905836 e^{x} \\sin{\\left (3 x \\right )} + 30479652 e^{x} \\cos{\\left (3 x \\right )} + 52200625 \\cos{\\left (2 x \\right )}\\right) + \\frac{26 x^{12}}{119800434375} \\left(- 618714936 e^{x} \\sin{\\left (3 x \\right )} - 2601548523 e^{x} \\cos{\\left (3 x \\right )} - 8874106250 \\sin{\\left (2 x \\right )}\\right) + \\frac{52 x^{11}}{2036607384375} \\left(251520664752 e^{x} \\sin{\\left (3 x \\right )} + 43115705136 e^{x} \\cos{\\left (3 x \\right )} - 2187467190625 \\cos{\\left (2 x \\right )}\\right) + \\frac{x^{10}}{12464037192375000} \\left(- 390909615341236992 e^{x} \\sin{\\left (3 x \\right )} + 596263484164892544 e^{x} \\cos{\\left (3 x \\right )} + 1558004649046875 e^{x} + 14552250699272000000 \\sin{\\left (2 x \\right )}\\right) + \\frac{x^{9}}{529721580675937500} \\left(- 117867426710233584384 e^{x} \\sin{\\left (3 x \\right )} - 182533561560360122112 e^{x} \\cos{\\left (3 x \\right )} - 1986455927534765625 e^{x} + 10199778136294175000000 \\cos{\\left (2 x \\right )}\\right) + \\frac{x^{8}}{30017556238303125000} \\left(72764885792470123219968 e^{x} \\sin{\\left (3 x \\right )} - 11022178041493517074176 e^{x} \\cos{\\left (3 x \\right )} + 1519638784564095703125 e^{x} - 7817668582311731000000000 \\sin{\\left (2 x \\right )}\\right) + x^{7} \\left(- \\frac{13289670235506854052864 e^{x}}{3937488086814453125} \\sin{\\left (3 x \\right )} + \\frac{46579568257168239541248 e^{x}}{3937488086814453125} \\cos{\\left (3 x \\right )} - 360 e^{x} - \\frac{2138730880}{729} \\cos{\\left (2 x \\right )}\\right) + x^{6} \\left(- \\frac{524382694110951085073664 e^{x}}{13387459495169140625} \\sin{\\left (3 x \\right )} - \\frac{451420205448832140673152 e^{x}}{13387459495169140625} \\cos{\\left (3 x \\right )} + 945 e^{x} + \\frac{6698531840}{243} \\sin{\\left (2 x \\right )}\\right) + x^{5} \\left(\\frac{932637119009295299185377792 e^{x}}{5689670285446884765625} \\sin{\\left (3 x \\right )} - \\frac{420095151590358390520518144 e^{x}}{5689670285446884765625} \\cos{\\left (3 x \\right )} + 5670 e^{x} + \\frac{52014202240}{243} \\cos{\\left (2 x \\right )}\\right) + x^{4} \\left(- \\frac{4171784219544276777681727488 e^{x}}{483621974262985205078125} \\sin{\\left (3 x \\right )} + \\frac{245060645358824547296271042816 e^{x}}{483621974262985205078125} \\cos{\\left (3 x \\right )} - 61425 e^{x} - \\frac{8830697075200}{6561} \\sin{\\left (2 x \\right )}\\right) + x^{3} \\left(- \\frac{41146135189448784683639270916096 e^{x}}{41107867812353742431640625} \\sin{\\left (3 x \\right )} - \\frac{20396113975402945748292186390528 e^{x}}{41107867812353742431640625} \\cos{\\left (3 x \\right )} + 226800 e^{x} - \\frac{43408882316800}{6561} \\cos{\\left (2 x \\right )}\\right) + x^{2} \\left(\\frac{4983707699040643346206345333284864 e^{x}}{3494168764050068106689453125} \\sin{\\left (3 x \\right )} - \\frac{3907183190115265090834706419765248 e^{x}}{3494168764050068106689453125} \\cos{\\left (3 x \\right )} - 297675 e^{x} + \\frac{157038186905600}{6561} \\sin{\\left (2 x \\right )}\\right) + x \\left(\\frac{24680562938041835908186594833678336 e^{x}}{59400868988851157813720703125} \\sin{\\left (3 x \\right )} + \\frac{111909004126147486524591046336462848 e^{x}}{59400868988851157813720703125} \\cos{\\left (3 x \\right )} - 255150 e^{x} + \\frac{3355256057753600}{59049} \\cos{\\left (2 x \\right )}\\right) + \\left(C_{1} - \\frac{x^{13}}{832} - \\frac{11 x^{12}}{125} e^{x} + \\frac{x^{11}}{20000} \\left(71424 e^{x} + 3125\\right) - \\frac{226908 x^{10}}{3125} e^{x} + \\frac{231 x^{9}}{80000} \\left(352256 e^{x} - 3125\\right) - \\frac{35397648 x^{8}}{3125} e^{x} + \\frac{891 x^{7}}{1250000} \\left(150286336 e^{x} + 390625\\right) - \\frac{340118013312 x^{6}}{390625} e^{x} + \\frac{2079 x^{5}}{250000000} \\left(718791376896 e^{x} - 537109375\\right) - \\frac{13154655685248 x^{4}}{390625} e^{x} + \\frac{6237 x^{3}}{125000000} \\left(3000957075456 e^{x} + 634765625\\right) + x^{2} \\left(C_{3} - \\frac{24123599757024768 e^{x}}{48828125}\\right) + x \\left(C_{2} + \\frac{263123619669098496 e^{x}}{244140625}\\right) - \\frac{1425201260123418624 e^{x}}{1220703125}\\right) \\sin{\\left (x \\right )} + \\left(C_{4} + \\frac{x^{14}}{17472} + \\frac{x^{12}}{8000} \\left(128 e^{x} - 125\\right) - \\frac{1224 x^{11}}{625} e^{x} + \\frac{33 x^{10}}{400000} \\left(823296 e^{x} + 15625\\right) - \\frac{859584 x^{9}}{625} e^{x} + \\frac{99 x^{8}}{200000} \\left(40605696 e^{x} - 109375\\right) - \\frac{18164881152 x^{7}}{78125} e^{x} + \\frac{2079 x^{6}}{50000000} \\left(53053554688 e^{x} + 29296875\\right) - \\frac{33614205520896 x^{5}}{1953125} e^{x} + \\frac{6237 x^{4}}{50000000} \\left(869776195584 e^{x} - 107421875\\right) - \\frac{1042681722356736 x^{3}}{1953125} e^{x} + x^{2} \\left(C_{6} + \\frac{94287904713547776 e^{x}}{48828125}\\right) + x \\left(C_{5} - \\frac{1118297231354806272 e^{x}}{244140625}\\right) + \\frac{6541567675676909568 e^{x}}{1220703125}\\right) \\cos{\\left (x \\right )} - \\frac{4977111233027770363445380002499166208 e^{x}}{5049073864052348414166259765625} \\sin{\\left (3 x \\right )} - \\frac{1179011513536594450989215186613510144 e^{x}}{5049073864052348414166259765625} \\cos{\\left (3 x \\right )} + 722925 e^{x} - \\frac{3929786622361600}{59049} \\sin{\\left (2 x \\right )}$$"
      ],
      "text/plain": [
       "        14                                x    13 ⎛            x              \n",
       "       x  ⋅(666⋅sin(3⋅x) + 413⋅cos(3⋅x))⋅ℯ    x  ⋅⎝- 41905836⋅ℯ ⋅sin(3⋅x) + 30\n",
       "y(x) = ──────────────────────────────────── + ────────────────────────────────\n",
       "                      614125                                                 1\n",
       "\n",
       "        x                             ⎞       12 ⎛             x              \n",
       "479652⋅ℯ ⋅cos(3⋅x) + 52200625⋅cos(2⋅x)⎠   26⋅x  ⋅⎝- 618714936⋅ℯ ⋅sin(3⋅x) - 26\n",
       "─────────────────────────────────────── + ────────────────────────────────────\n",
       "409416875                                                                   11\n",
       "\n",
       "          x                               ⎞       11 ⎛              x         \n",
       "01548523⋅ℯ ⋅cos(3⋅x) - 8874106250⋅sin(2⋅x)⎠   52⋅x  ⋅⎝251520664752⋅ℯ ⋅sin(3⋅x)\n",
       "─────────────────────────────────────────── + ────────────────────────────────\n",
       "9800434375                                                                    \n",
       "\n",
       "                x                                  ⎞    10 ⎛                  \n",
       " + 43115705136⋅ℯ ⋅cos(3⋅x) - 2187467190625⋅cos(2⋅x)⎠   x  ⋅⎝- 3909096153412369\n",
       "──────────────────────────────────────────────────── + ───────────────────────\n",
       "   2036607384375                                                              \n",
       "\n",
       "    x                                x                              x         \n",
       "92⋅ℯ ⋅sin(3⋅x) + 596263484164892544⋅ℯ ⋅cos(3⋅x) + 1558004649046875⋅ℯ  + 145522\n",
       "──────────────────────────────────────────────────────────────────────────────\n",
       "                               12464037192375000                              \n",
       "\n",
       "                       ⎞    9 ⎛                         x                     \n",
       "50699272000000⋅sin(2⋅x)⎠   x ⋅⎝- 117867426710233584384⋅ℯ ⋅sin(3⋅x) - 182533561\n",
       "──────────────────────── + ───────────────────────────────────────────────────\n",
       "                                                                              \n",
       "\n",
       "              x                                 x                             \n",
       "560360122112⋅ℯ ⋅cos(3⋅x) - 1986455927534765625⋅ℯ  + 10199778136294175000000⋅co\n",
       "──────────────────────────────────────────────────────────────────────────────\n",
       "        529721580675937500                                                    \n",
       "\n",
       "      ⎞    8 ⎛                         x                                     x\n",
       "s(2⋅x)⎠   x ⋅⎝72764885792470123219968⋅ℯ ⋅sin(3⋅x) - 11022178041493517074176⋅ℯ \n",
       "─────── + ────────────────────────────────────────────────────────────────────\n",
       "                                                                        300175\n",
       "\n",
       "                                    x                                     ⎞   \n",
       "⋅cos(3⋅x) + 1519638784564095703125⋅ℯ  - 7817668582311731000000000⋅sin(2⋅x)⎠   \n",
       "─────────────────────────────────────────────────────────────────────────── + \n",
       "56238303125000                                                                \n",
       "\n",
       "   ⎛                           x                                     x        \n",
       " 7 ⎜  13289670235506854052864⋅ℯ ⋅sin(3⋅x)   46579568257168239541248⋅ℯ ⋅cos(3⋅x\n",
       "x ⋅⎜- ─────────────────────────────────── + ──────────────────────────────────\n",
       "   ⎝          3937488086814453125                   3937488086814453125       \n",
       "\n",
       "                                ⎞      ⎛                            x         \n",
       ")        x   2138730880⋅cos(2⋅x)⎟    6 ⎜  524382694110951085073664⋅ℯ ⋅sin(3⋅x)\n",
       "─ - 360⋅ℯ  - ───────────────────⎟ + x ⋅⎜- ────────────────────────────────────\n",
       "                     729        ⎠      ⎝          13387459495169140625        \n",
       "\n",
       "                             x                                        ⎞      ⎛\n",
       "   451420205448832140673152⋅ℯ ⋅cos(3⋅x)        x   6698531840⋅sin(2⋅x)⎟    5 ⎜\n",
       " - ──────────────────────────────────── + 945⋅ℯ  + ───────────────────⎟ + x ⋅⎜\n",
       "           13387459495169140625                            243        ⎠      ⎝\n",
       "\n",
       "                             x                                         x      \n",
       "932637119009295299185377792⋅ℯ ⋅sin(3⋅x)   420095151590358390520518144⋅ℯ ⋅cos(3\n",
       "─────────────────────────────────────── - ────────────────────────────────────\n",
       "         5689670285446884765625                    5689670285446884765625     \n",
       "\n",
       "                                    ⎞      ⎛                                x \n",
       "⋅x)         x   52014202240⋅cos(2⋅x)⎟    4 ⎜  4171784219544276777681727488⋅ℯ ⋅\n",
       "─── + 5670⋅ℯ  + ────────────────────⎟ + x ⋅⎜- ────────────────────────────────\n",
       "                        243         ⎠      ⎝          483621974262985205078125\n",
       "\n",
       "                                           x                                  \n",
       "sin(3⋅x)   245060645358824547296271042816⋅ℯ ⋅cos(3⋅x)          x   88306970752\n",
       "──────── + ────────────────────────────────────────── - 61425⋅ℯ  - ───────────\n",
       "                    483621974262985205078125                                65\n",
       "\n",
       "           ⎞      ⎛                                    x                      \n",
       "00⋅sin(2⋅x)⎟    3 ⎜  41146135189448784683639270916096⋅ℯ ⋅sin(3⋅x)   2039611397\n",
       "───────────⎟ + x ⋅⎜- ──────────────────────────────────────────── - ──────────\n",
       "61         ⎠      ⎝           41107867812353742431640625                     4\n",
       "\n",
       "                        x                                               ⎞     \n",
       "5402945748292186390528⋅ℯ ⋅cos(3⋅x)           x   43408882316800⋅cos(2⋅x)⎟    2\n",
       "────────────────────────────────── + 226800⋅ℯ  - ───────────────────────⎟ + x \n",
       "1107867812353742431640625                                  6561         ⎠     \n",
       "\n",
       " ⎛                                    x                                       \n",
       " ⎜4983707699040643346206345333284864⋅ℯ ⋅sin(3⋅x)   390718319011526509083470641\n",
       "⋅⎜────────────────────────────────────────────── - ───────────────────────────\n",
       " ⎝         3494168764050068106689453125                     349416876405006810\n",
       "\n",
       "         x                                                ⎞     ⎛             \n",
       "9765248⋅ℯ ⋅cos(3⋅x)           x   157038186905600⋅sin(2⋅x)⎟     ⎜2468056293804\n",
       "─────────────────── - 297675⋅ℯ  + ────────────────────────⎟ + x⋅⎜─────────────\n",
       "6689453125                                  6561          ⎠     ⎝         5940\n",
       "\n",
       "                        x                                                  x  \n",
       "1835908186594833678336⋅ℯ ⋅sin(3⋅x)   111909004126147486524591046336462848⋅ℯ ⋅c\n",
       "────────────────────────────────── + ─────────────────────────────────────────\n",
       "0868988851157813720703125                     59400868988851157813720703125   \n",
       "\n",
       "                                               ⎞   ⎛      13       12  x    11\n",
       "os(3⋅x)           x   3355256057753600⋅cos(2⋅x)⎟   ⎜     x     11⋅x  ⋅ℯ    x  \n",
       "─────── - 255150⋅ℯ  + ─────────────────────────⎟ + ⎜C₁ - ─── - ───────── + ───\n",
       "                                59049          ⎠   ⎝     832      125         \n",
       "\n",
       " ⎛       x       ⎞           10  x        9 ⎛        x       ⎞             8  \n",
       "⋅⎝71424⋅ℯ  + 3125⎠   226908⋅x  ⋅ℯ    231⋅x ⋅⎝352256⋅ℯ  - 3125⎠   35397648⋅x ⋅ℯ\n",
       "────────────────── - ───────────── + ───────────────────────── - ─────────────\n",
       "     20000                3125                 80000                  3125    \n",
       "\n",
       "x        7 ⎛           x         ⎞                 6  x         5 ⎛           \n",
       "    891⋅x ⋅⎝150286336⋅ℯ  + 390625⎠   340118013312⋅x ⋅ℯ    2079⋅x ⋅⎝71879137689\n",
       "─ + ────────────────────────────── - ────────────────── + ────────────────────\n",
       "               1250000                     390625                       250000\n",
       "\n",
       "   x            ⎞                   4  x         3 ⎛               x          \n",
       "6⋅ℯ  - 537109375⎠   13154655685248⋅x ⋅ℯ    6237⋅x ⋅⎝3000957075456⋅ℯ  + 6347656\n",
       "───────────────── - ──────────────────── + ───────────────────────────────────\n",
       "000                        390625                        125000000            \n",
       "\n",
       "  ⎞      ⎛                        x⎞     ⎛                         x⎞         \n",
       "25⎠    2 ⎜     24123599757024768⋅ℯ ⎟     ⎜     263123619669098496⋅ℯ ⎟   142520\n",
       "─── + x ⋅⎜C₃ - ────────────────────⎟ + x⋅⎜C₂ + ─────────────────────⎟ - ──────\n",
       "         ⎝           48828125      ⎠     ⎝           244140625      ⎠         \n",
       "\n",
       "               x⎞          ⎛       14     12 ⎛     x      ⎞         11  x     \n",
       "1260123418624⋅ℯ ⎟          ⎜      x      x  ⋅⎝128⋅ℯ  - 125⎠   1224⋅x  ⋅ℯ    33\n",
       "────────────────⎟⋅sin(x) + ⎜C₄ + ───── + ────────────────── - ─────────── + ──\n",
       "1220703125      ⎠          ⎝     17472          8000              625         \n",
       "\n",
       "  10 ⎛        x        ⎞           9  x       8 ⎛          x         ⎞        \n",
       "⋅x  ⋅⎝823296⋅ℯ  + 15625⎠   859584⋅x ⋅ℯ    99⋅x ⋅⎝40605696⋅ℯ  - 109375⎠   18164\n",
       "──────────────────────── - ──────────── + ──────────────────────────── - ─────\n",
       "        400000                 625                   200000                   \n",
       "\n",
       "        7  x         6 ⎛             x           ⎞                   5  x     \n",
       "881152⋅x ⋅ℯ    2079⋅x ⋅⎝53053554688⋅ℯ  + 29296875⎠   33614205520896⋅x ⋅ℯ    62\n",
       "──────────── + ─────────────────────────────────── - ──────────────────── + ──\n",
       " 78125                       50000000                      1953125            \n",
       "\n",
       "    4 ⎛              x            ⎞                     3  x      ⎛           \n",
       "37⋅x ⋅⎝869776195584⋅ℯ  - 107421875⎠   1042681722356736⋅x ⋅ℯ     2 ⎜     942879\n",
       "─────────────────────────────────── - ────────────────────── + x ⋅⎜C₆ + ──────\n",
       "             50000000                        1953125              ⎝           \n",
       "\n",
       "             x⎞     ⎛                          x⎞                        x⎞   \n",
       "04713547776⋅ℯ ⎟     ⎜     1118297231354806272⋅ℯ ⎟   6541567675676909568⋅ℯ ⎟   \n",
       "──────────────⎟ + x⋅⎜C₅ - ──────────────────────⎟ + ──────────────────────⎟⋅co\n",
       "48828125      ⎠     ⎝           244140625       ⎠         1220703125      ⎠   \n",
       "\n",
       "                                              x                               \n",
       "       4977111233027770363445380002499166208⋅ℯ ⋅sin(3⋅x)   1179011513536594450\n",
       "s(x) - ───────────────────────────────────────────────── - ───────────────────\n",
       "                5049073864052348414166259765625                     5049073864\n",
       "\n",
       "                    x                                                 \n",
       "989215186613510144⋅ℯ ⋅cos(3⋅x)           x   3929786622361600⋅sin(2⋅x)\n",
       "────────────────────────────── + 722925⋅ℯ  - ─────────────────────────\n",
       "052348414166259765625                                  59049          "
      ]
     },
     "execution_count": 30,
     "metadata": {},
     "output_type": "execute_result"
    }
   ],
   "source": [
    "sy.dsolve(eq)"
   ]
  },
  {
   "cell_type": "code",
   "execution_count": 31,
   "metadata": {
    "collapsed": false
   },
   "outputs": [
    {
     "data": {
      "text/latex": [
       "$$\\left[\\begin{matrix}2 x & 0\\\\1 & 1\\end{matrix}\\right]$$"
      ],
      "text/plain": [
       "⎡2⋅x  0⎤\n",
       "⎢      ⎥\n",
       "⎣ 1   1⎦"
      ]
     },
     "execution_count": 31,
     "metadata": {},
     "output_type": "execute_result"
    }
   ],
   "source": [
    "#jacobian matrix\n",
    "x,y = sy.symbols(\"x,y\")\n",
    "F = sy.Matrix([x**2, x+y])\n",
    "F.jacobian([x,y])"
   ]
  },
  {
   "cell_type": "markdown",
   "metadata": {},
   "source": [
    "## Autograd"
   ]
  },
  {
   "cell_type": "code",
   "execution_count": 32,
   "metadata": {
    "collapsed": true
   },
   "outputs": [],
   "source": [
    "from autograd import grad, multigrad, jacobian\n",
    "import autograd.numpy as np"
   ]
  },
  {
   "cell_type": "code",
   "execution_count": 33,
   "metadata": {
    "collapsed": false
   },
   "outputs": [
    {
     "data": {
      "image/png": "[encoded data removed]",
      "text/latex": [
       "$$-1.20697770398$$"
      ],
      "text/plain": [
       "-1.20697770398"
      ]
     },
     "execution_count": 33,
     "metadata": {},
     "output_type": "execute_result"
    }
   ],
   "source": [
    "g = lambda x: np.exp(np.sin(np.cos(x)))\n",
    "grad_g = grad(g)\n",
    "grad_g(1.)"
   ]
  },
  {
   "cell_type": "code",
   "execution_count": 34,
   "metadata": {
    "collapsed": false
   },
   "outputs": [
    {
     "data": {
      "text/plain": [
       "array(0.5)"
      ]
     },
     "execution_count": 34,
     "metadata": {},
     "output_type": "execute_result"
    }
   ],
   "source": [
    "#wrt multiple variables\n",
    "f = lambda x,y: 3*x*y + 2*y -x\n",
    "grad_f = grad(f, argnum=0)\n",
    "grad_f(.25, .5)"
   ]
  },
  {
   "cell_type": "code",
   "execution_count": 35,
   "metadata": {
    "collapsed": false
   },
   "outputs": [
    {
     "data": {
      "text/plain": [
       "array(2.75)"
      ]
     },
     "execution_count": 35,
     "metadata": {},
     "output_type": "execute_result"
    }
   ],
   "source": [
    "grad_f = grad(f, argnum=1)\n",
    "grad_f(.25, .5)"
   ]
  },
  {
   "cell_type": "code",
   "execution_count": 36,
   "metadata": {
    "collapsed": false
   },
   "outputs": [
    {
     "data": {
      "text/plain": [
       "(array(0.5), array(2.75))"
      ]
     },
     "execution_count": 36,
     "metadata": {},
     "output_type": "execute_result"
    }
   ],
   "source": [
    "#or this\n",
    "grad_fun = multigrad(f, argnums=[0,1])\n",
    "grad_fun(.25, .5)"
   ]
  },
  {
   "cell_type": "markdown",
   "metadata": {},
   "source": [
    "### Problem 6. \n",
    "Use autograd to compute the derivative of $f(x) = ln\\sqrt{sin(\\sqrt{x})}$ at x = $\\frac{\\pi}{4}$ . Time how long it takes to compute this derivative using autograd,SymPy, and the centered difference quotient. Calculate the error for each approximation."
   ]
  },
  {
   "cell_type": "code",
   "execution_count": 39,
   "metadata": {
    "collapsed": false
   },
   "outputs": [
    {
     "name": "stdout",
     "output_type": "stream",
     "text": [
      "0.230259011161\n",
      "CPU times: user 412 µs, sys: 215 µs, total: 627 µs\n",
      "Wall time: 493 µs\n"
     ]
    }
   ],
   "source": [
    "%%time\n",
    "# using centered difference quotients\n",
    "f = lambda x: np.log(np.sqrt(np.sin(np.sqrt(x))))\n",
    "der_center = deriv(f, np.pi/4)\n",
    "print(der_center)"
   ]
  },
  {
   "cell_type": "code",
   "execution_count": 40,
   "metadata": {
    "collapsed": false
   },
   "outputs": [
    {
     "name": "stdout",
     "output_type": "stream",
     "text": [
      "0.230259011146961\n",
      "CPU times: user 11.3 ms, sys: 574 µs, total: 11.9 ms\n",
      "Wall time: 11.5 ms\n"
     ]
    }
   ],
   "source": [
    "%%time\n",
    "#using sympy\n",
    "x = sy.symbols(\"x\")\n",
    "expr = sy.log(sy.sqrt(sy.sin(sy.sqrt(x))))\n",
    "der_sympy = expr.diff(x).subs(x, sy.pi/4).evalf()\n",
    "print(der_sympy)"
   ]
  },
  {
   "cell_type": "code",
   "execution_count": 41,
   "metadata": {
    "collapsed": false
   },
   "outputs": [
    {
     "name": "stdout",
     "output_type": "stream",
     "text": [
      "0.230259011147\n",
      "CPU times: user 670 µs, sys: 287 µs, total: 957 µs\n",
      "Wall time: 739 µs\n"
     ]
    }
   ],
   "source": [
    "%%time\n",
    "# using autograd\n",
    "grad_f = grad(f)\n",
    "der_grad = grad_f(np.pi/4)\n",
    "print(der_grad)"
   ]
  },
  {
   "cell_type": "code",
   "execution_count": 42,
   "metadata": {
    "collapsed": false
   },
   "outputs": [
    {
     "name": "stdout",
     "output_type": "stream",
     "text": [
      "sympy and centered diff:  1.38440647834415e-11\n",
      "sympy and autograd: 0\n",
      "centered diff and autograd: 1.38440647834e-11\n"
     ]
    }
   ],
   "source": [
    "print(\"sympy and centered diff: \", np.abs(der_sympy-der_center))\n",
    "print(\"sympy and autograd:\", np.abs(der_sympy-der_grad))\n",
    "print(\"centered diff and autograd:\", np.abs(der_center-der_grad))"
   ]
  },
  {
   "cell_type": "markdown",
   "metadata": {},
   "source": [
    "### Problem 7.\n",
    "\n",
    "Let $f : \\mathbb{R}^2 \\rightarrow \\mathbb{R}^2$ be defined by\n",
    "\n",
    "$$f(x,y) = \\begin{bmatrix}\n",
    "            e^xsin(y)+y^3 \\\\\n",
    "            3y-cos(x)\n",
    "           \\end{bmatrix}$$\n",
    "\n",
    "Find the Jacobian function using SymPy and autograd. Time how long it takes to compute each Jacobian at `(x, y) = (1, 1)`."
   ]
  },
  {
   "cell_type": "code",
   "execution_count": 43,
   "metadata": {
    "collapsed": false
   },
   "outputs": [
    {
     "name": "stdout",
     "output_type": "stream",
     "text": [
      "[[ 2.28735529  4.46869394]\n",
      " [ 0.84147098  3.        ]]\n",
      "CPU times: user 2.28 ms, sys: 551 µs, total: 2.83 ms\n",
      "Wall time: 2.36 ms\n"
     ]
    }
   ],
   "source": [
    "%%time\n",
    "#using autograd\n",
    "f = lambda x: np.array([np.exp(x[0])*np.sin(x[1]) + x[1]**3, 3*x[1] - np.cos(x[0])])\n",
    "jacobian_f = jacobian(f)\n",
    "print(jacobian_f(np.ones(2)))"
   ]
  },
  {
   "cell_type": "code",
   "execution_count": 44,
   "metadata": {
    "collapsed": false
   },
   "outputs": [
    {
     "name": "stdout",
     "output_type": "stream",
     "text": [
      "Matrix([[2.28735528717884, 4.46869393991589], [0.841470984807897, 3.00000000000000]])\n",
      "CPU times: user 9.18 ms, sys: 609 µs, total: 9.79 ms\n",
      "Wall time: 9.26 ms\n"
     ]
    }
   ],
   "source": [
    "%%time\n",
    "#using sympy\n",
    "x,y = sy.symbols(\"x,y\")\n",
    "F = sy.Matrix([sy.exp(x)*sy.sin(y) +y**3, 3*y - sy.cos(x)])\n",
    "print(F.jacobian([x,y]).subs({x:1, y:1}).evalf())"
   ]
  },
  {
   "cell_type": "code",
   "execution_count": null,
   "metadata": {
    "collapsed": true
   },
   "outputs": [],
   "source": []
  }
 ],
 "metadata": {
  "kernelspec": {
   "display_name": "Python [conda env:impact]",
   "language": "python",
   "name": "conda-env-impact-py"
  },
  "language_info": {
   "codemirror_mode": {
    "name": "ipython",
    "version": 3
   },
   "file_extension": ".py",
   "mimetype": "text/x-python",
   "name": "python",
   "nbconvert_exporter": "python",
   "pygments_lexer": "ipython3",
   "version": "3.6.0"
  }
 },
 "nbformat": 4,
 "nbformat_minor": 1
}
